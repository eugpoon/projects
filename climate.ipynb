{
 "cells": [
  {
   "cell_type": "markdown",
   "id": "d0237754",
   "metadata": {},
   "source": [
    "# Climate Data: CO2 and Snow Accumulation\n",
    "\n",
    "This lab accompanies a lecture for UC Berkeley's Data 100 by Fernando Pérez and [Dr. Chelle Gentemann](https://cgentemann.github.io) that covers the fundamental physical mechanisms behind global warming and analyzes CO2 and ocean temperature data."
   ]
  },
  {
   "cell_type": "code",
   "execution_count": null,
   "id": "3f873401",
   "metadata": {
    "nbgrader": {
     "grade": false,
     "grade_id": "setup",
     "locked": true,
     "schema_version": 2,
     "solution": false
    }
   },
   "outputs": [],
   "source": [
    "%matplotlib inline\n",
    "\n",
    "import warnings\n",
    "from zipfile import ZipFile\n",
    "\n",
    "import numpy as np\n",
    "import pandas as pd\n",
    "import seaborn as sns\n",
    "import xarray as xr\n",
    "from IPython.display import HTML, Javascript, display\n",
    "from matplotlib import pyplot as plt\n",
    "from plotly import graph_objs as go, io as pio\n",
    "from plotly.offline import iplot\n",
    "from plotly.subplots import make_subplots\n",
    "from scipy.interpolate import CubicSpline\n",
    "\n",
    "\n",
    "pio.renderers.default = 'notebook'\n",
    "\n",
    "\n",
    "warnings.filterwarnings('ignore')\n",
    "\n",
    "plt.rcParams['figure.figsize'] = (6, 4)\n",
    "plt.rcParams['figure.dpi'] = 300\n",
    "plt.rcParams['font.size'] = 8\n",
    "plt.rcParams['figure.titlesize'] = 10\n",
    "plt.rcParams['axes.linewidth'] = 0.1\n",
    "plt.rcParams['patch.linewidth'] = 0\n",
    "\n",
    "display(HTML(\"<style>.container { width:100% !important; }</style>\"))"
   ]
  },
  {
   "cell_type": "markdown",
   "id": "a87a15d2",
   "metadata": {},
   "source": [
    "## [Mauna Loa CO2](https://scrippsco2.ucsd.edu/data/atmospheric_co2/primary_mlo_co2_record.html)\n",
    "### Load Data"
   ]
  },
  {
   "cell_type": "code",
   "execution_count": null,
   "id": "7f6bec5c",
   "metadata": {},
   "outputs": [],
   "source": [
    "filename = 'https://scrippsco2.ucsd.edu/assets/data/atmospheric/stations/in_situ_co2/monthly/monthly_in_situ_co2_mlo.csv'\n",
    "mlo = pd.read_csv(filename, skiprows=59, na_values=-99.99\n",
    "                  ).reset_index().dropna().iloc[:, :-1]\n",
    "mlo.columns = ['year', 'month', 'date_index', 'fraction_date', 'c02',\n",
    "               'data_adjusted_season', 'data_fit',\n",
    "               'data_adjusted_seasonally_fit', 'data_filled',\n",
    "               'data_adjusted_seasonally_filed']\n",
    "mlo.head(2)"
   ]
  },
  {
   "cell_type": "markdown",
   "id": "47b75925",
   "metadata": {},
   "source": [
    "### Exploratory Data Analysis\n",
    "#### Variability in Annual Cycle\n",
    "\n",
    "Plants take up CO2 in the spring/summer then release it in the fall/winter"
   ]
  },
  {
   "cell_type": "code",
   "execution_count": null,
   "id": "848200e1",
   "metadata": {},
   "outputs": [],
   "source": [
    "trace1 = go.Scatter(x=mlo['fraction_date'], y=mlo['c02'])\n",
    "trace2 = go.Scatter(x=mlo['fraction_date'],\n",
    "                    y=mlo['data_adjusted_seasonally_fit'])\n",
    "\n",
    "fig = make_subplots()\n",
    "fig.add_trace(trace1)\n",
    "fig.add_trace(trace2)\n",
    "fig['layout'].update(height=600, width=700, showlegend=False,\n",
    "                     title='Atmospheric CO2 at Mauna Loa Observatory',\n",
    "                     xaxis_title='Year',\n",
    "                     yaxis_title='CO2 fraction in dry air (ppm)')\n",
    "iplot(fig)\n",
    "\n",
    "# plt.plot(data=mlo, 'fraction_date', 'c02')\n",
    "# plt.plot(data=mlo, 'fraction_date', 'data_adjusted_seasonally_fit')\n",
    "# plt.title('Atmospheric CO2 at Mauna Loa Observatory')\n",
    "# plt.xlabel('Year')\n",
    "# plt.ylabel('CO2 fraction in dry air (ppm)')\n",
    "# plt.show()"
   ]
  },
  {
   "cell_type": "markdown",
   "id": "fbb874a5",
   "metadata": {},
   "source": [
    "#### Monthly Cycle For All Years\n",
    "CO2 emission follows a similar monthly cycle each year. There is a slight increase around May and a dip around October."
   ]
  },
  {
   "cell_type": "code",
   "execution_count": null,
   "id": "c22cb196",
   "metadata": {},
   "outputs": [],
   "source": [
    "sns.lineplot(data=mlo, x='month', y='c02', hue='year')\n",
    "plt.legend(bbox_to_anchor=(1, 1))\n",
    "plt.xlabel('Month')\n",
    "plt.ylabel('CO2 fraction in dry air (ppm)')\n",
    "plt.title('Monthly CO2 Cycle by Year')\n",
    "plt.show()"
   ]
  },
  {
   "cell_type": "markdown",
   "id": "85063af9",
   "metadata": {},
   "source": [
    "#### Estimate Increase in Amplitude of Annual Cycle"
   ]
  },
  {
   "cell_type": "code",
   "execution_count": null,
   "id": "f5f598c1",
   "metadata": {},
   "outputs": [],
   "source": [
    "annual = mlo.groupby('month').mean()\n",
    "anomaly = annual - annual.mean()\n",
    "\n",
    "\n",
    "def detrend(df):\n",
    "    temp = df - df.mean()\n",
    "    temp['month'] = df['month']\n",
    "    return temp\n",
    "\n",
    "\n",
    "c02anomaly = mlo.groupby('year').apply(detrend)\n",
    "monthly_anomaly = c02anomaly.groupby('month').mean()[['c02']]\n",
    "# display(monthly_anomaly)\n",
    "\n",
    "fig, ax = plt.subplots()\n",
    "ax.plot(mlo['fraction_date'], mlo['data_filled'], 'r.', markersize=2)\n",
    "ax.plot(mlo['fraction_date'], mlo['data_adjusted_seasonally_fit'], 'b')\n",
    "ax.set_xlabel('Year')\n",
    "ax.set_ylabel('CO2 fraction in dry air (ppm)')\n",
    "ax.set_title('Monthly Mean CO2')\n",
    "ax.grid(False)\n",
    "\n",
    "axin1 = ax.inset_axes([0.1, 0.6, 0.3, 0.3])\n",
    "cs = CubicSpline(monthly_anomaly.index.values, monthly_anomaly.c02)\n",
    "xs = np.arange(1, 12.1, 0.1)\n",
    "axin1.plot(monthly_anomaly.index, monthly_anomaly.c02, 'r.')\n",
    "axin1.plot(xs, cs(xs))\n",
    "axin1.set_xlabel('Month')\n",
    "axin1.set_title('Seasonal Anomaly')\n",
    "axin1.set_xticks(np.arange(2, 13, 2))\n",
    "plt.show()"
   ]
  },
  {
   "cell_type": "markdown",
   "id": "056df62b",
   "metadata": {
    "nbgrader": {
     "grade": false,
     "grade_id": "q1_text",
     "locked": true,
     "schema_version": 2,
     "solution": false
    }
   },
   "source": [
    "## [ERA5: Snow Density](https://cds.climate.copernicus.eu/cdsapp#!/dataset/reanalysis-era5-single-levels-monthly-means?tab=overview)\n",
    "\n",
    "### Download and Clean Data\n",
    "\n",
    "- Product type: Monthly averaged reanalysis\n",
    "- Variable: Land-sea mask, Snow density\n",
    "- Year: 2010, 2011, 2012, 2013, 2014, 2015, 2016, 2017, 2018, 2019\n",
    "- Month: January, February, March, April, May, June, July, August, September, October, November, December\n",
    "- Time: 00:00"
   ]
  },
  {
   "cell_type": "code",
   "execution_count": null,
   "id": "325263af",
   "metadata": {
    "nbgrader": {
     "grade": false,
     "grade_id": "q1_code",
     "locked": false,
     "schema_version": 2,
     "solution": true
    }
   },
   "outputs": [],
   "source": [
    "# files = ZipFile('data/era5_snow_monthly.nc.zip')\n",
    "# ds = xr.open_dataset(files.open(files.namelist()[0]))\n",
    "# mask = ds.lsm.mean('time') # {0: sea, 1: land, other: assume land}\n",
    "# snow = ds.rsn.where(mask > 0, drop=True)\n",
    "# snow = snow.interp(coords={'latitude': snow.latitude[0::7],\n",
    "#                            'longitude': snow.longitude[0::8]})\n",
    "# snow.to_netcdf('data/era5_snow.nc')\n",
    "# # snow"
   ]
  },
  {
   "cell_type": "markdown",
   "id": "3ad444a6",
   "metadata": {},
   "source": [
    "### Load Data"
   ]
  },
  {
   "cell_type": "code",
   "execution_count": null,
   "id": "e77706b1",
   "metadata": {},
   "outputs": [],
   "source": [
    "files = ZipFile('data/era5_snow.nc.zip')\n",
    "snow = xr.open_dataset(files.open(files.namelist()[0])).rsn\n",
    "snow"
   ]
  },
  {
   "cell_type": "markdown",
   "id": "501a217a",
   "metadata": {},
   "source": [
    "### Exploratory Data Analysis"
   ]
  },
  {
   "cell_type": "code",
   "execution_count": null,
   "id": "840c0b5a",
   "metadata": {},
   "outputs": [],
   "source": [
    "fig, axs = plt.subplots(ncols=2, figsize=(15, 7))\n",
    "\n",
    "xr.plot.hist(snow, color='c', alpha=0.4, ax=axs[0])\n",
    "axs[0].set_title('Snow Density Distribution')\n",
    "\n",
    "snow.mean('time').plot(ax=axs[1])\n",
    "axs[1].set_title('Average Density')\n",
    "plt.show()"
   ]
  },
  {
   "cell_type": "markdown",
   "id": "3004f98e",
   "metadata": {},
   "source": [
    "#### Snow Accumulation Peaks in Summer and Winter of 2000\n",
    "\n",
    "There is more snow across the globe in February from snowfall in the winter season and less in August from warm weather in the summer. Greenland and Antarctica's snow density was similar both times of the year"
   ]
  },
  {
   "cell_type": "code",
   "execution_count": null,
   "id": "651f45df",
   "metadata": {},
   "outputs": [],
   "source": [
    "fig, axs = plt.subplots(ncols=2, figsize=(15, 7))\n",
    "\n",
    "snow.sel(time='2010-02').plot(ax=axs[0])\n",
    "snow.sel(time='2010-08').plot(ax=axs[1])\n",
    "plt.show()"
   ]
  },
  {
   "cell_type": "markdown",
   "id": "aa2d30bb",
   "metadata": {},
   "source": [
    "## Peaks: Northern vs Southern Hemisphere\n",
    "On average, snow density peaks at around April and is lowest around July/August in the Northern Hemisphere. Snow density stays relatively constant throughout the year, on average."
   ]
  },
  {
   "cell_type": "code",
   "execution_count": null,
   "id": "493e0408",
   "metadata": {},
   "outputs": [],
   "source": [
    "by_month = snow.groupby('time.month').mean()\n",
    "nn = by_month.where(snow.latitude > 0, drop=True).mean(\n",
    "    ['latitude', 'longitude'])\n",
    "ss = by_month.where(snow.latitude < 0, drop=True).mean(\n",
    "    ['latitude', 'longitude'])\n",
    "\n",
    "trace1 = go.Scatter(x=nn.month, y=nn, name='north')\n",
    "trace2 = go.Scatter(x=ss.month, y=ss, name='south')\n",
    "\n",
    "fig = make_subplots()\n",
    "fig.add_trace(trace1)\n",
    "fig.add_trace(trace2)\n",
    "fig['layout'].update(height=600, width=600, showlegend=True,\n",
    "                     title=\"Average Monthly Density in the 2010's\",\n",
    "                     xaxis_title='Month', yaxis_title='Snow Density')\n",
    "iplot(fig)\n",
    "\n",
    "# nn.plot(label='north')\n",
    "# ss.plot(label='south')\n",
    "# plt.legend()\n",
    "# plt.show()"
   ]
  },
  {
   "cell_type": "markdown",
   "id": "14c02294",
   "metadata": {},
   "source": [
    "## Max and Min Snow Density in Northern Hemisphere\n",
    "\n",
    "Max density in April and fluctuates throughout the years, while min in July/August stays constant"
   ]
  },
  {
   "cell_type": "code",
   "execution_count": null,
   "id": "7dac187a",
   "metadata": {},
   "outputs": [],
   "source": [
    "# get peaks for each year\n",
    "\n",
    "\n",
    "def extract_peaks(da):\n",
    "    years = np.arange(2010, 2020).astype(str)\n",
    "    peaks = []\n",
    "\n",
    "    for y in years:\n",
    "        snow_sel = da.sel(time=y)\n",
    "        min_month = pd.to_datetime(snow_sel.idxmin().values).month\n",
    "        max_month = pd.to_datetime(snow_sel.idxmax().values).month\n",
    "        int(snow_sel.idxmin().dt.dayofyear)\n",
    "        int(snow_sel.idxmax().dt.dayofyear)\n",
    "        min_snow = float(snow_sel.min())\n",
    "        max_snow = float(snow_sel.max())\n",
    "        amplitude = max_snow - min_snow\n",
    "        peaks.append([y, min_month, max_month, min_snow, max_snow, amplitude])\n",
    "\n",
    "    return pd.DataFrame(peaks, columns=['year', 'min_month', 'max_month',\n",
    "                                        'min_snow', 'max_snow', 'amplitude'])\n",
    "\n",
    "\n",
    "peaks = extract_peaks(snow.where(snow.latitude > 0, drop=True)\n",
    "                      .mean(['latitude', 'longitude']))\n",
    "display(peaks)"
   ]
  },
  {
   "cell_type": "code",
   "execution_count": null,
   "id": "cbf5a1a5",
   "metadata": {},
   "outputs": [],
   "source": [
    "trace1 = go.Scatter(x=peaks.year, y=peaks.min_snow)\n",
    "trace2 = go.Scatter(x=peaks.year, y=peaks.max_snow)\n",
    "# trace3 = go.Bar(x=peaks.year, y=peaks.amplitude)\n",
    "\n",
    "fig = make_subplots(specs=[[{'secondary_y': True}]])\n",
    "fig.add_trace(trace1)\n",
    "fig.add_trace(trace2)\n",
    "# fig.add_trace(trace3,secondary_y=True)\n",
    "fig['layout'].update(height=600, width=600, showlegend=False,\n",
    "                     title=\"Average Monthly Density in the 2010's\",\n",
    "                     xaxis_title='Month', yaxis_title='Snow Density')\n",
    "iplot(fig)\n",
    "\n",
    "# plt.figure(figsize=(12, 12))\n",
    "# plt.plot('year', 'min_snow', data=peaks)\n",
    "# plt.plot('year', 'max_snow', data=peaks)\n",
    "# plt.plot('year', 'min_snow', 'r.', color='black', data=peaks)\n",
    "# plt.plot('year', 'max_snow', 'r.', color='black', data=peaks)\n",
    "# plt.legend(['Minimum', 'Maximum'])\n",
    "# plt.title('Min and Max Snow Accumulation')\n",
    "# plt.xlabel('Year')\n",
    "# plt.ylabel('Snow Density')\n",
    "# plt.xticks(rotation=60)\n",
    "# plt.show()"
   ]
  },
  {
   "cell_type": "code",
   "execution_count": null,
   "id": "6d8e25df",
   "metadata": {},
   "outputs": [],
   "source": [
    "# save notebook\n",
    "display(Javascript('IPython.notebook.save_checkpoint();'))\n",
    "# save notebook as html to eugpoon.github.io/projects\n",
    "!jupyter nbconvert  climate.ipynb --to html\n",
    "%mv \"climate.html\" \"../eugpoon.github.io/projects/\"\n",
    "# restyle imports, clear output, replace file\n",
    "!cleanipynb climate.ipynb\n",
    "# restart kernel\n",
    "display(HTML(\"<script>Jupyter.notebook.kernel.restart()</script>\"))"
   ]
  }
 ],
 "metadata": {
  "kernelspec": {
   "display_name": "Python 3 (ipykernel)",
   "language": "python",
   "name": "python3"
  },
  "language_info": {
   "codemirror_mode": {
    "name": "ipython",
    "version": 3
   },
   "file_extension": ".py",
   "mimetype": "text/x-python",
   "name": "python",
   "nbconvert_exporter": "python",
   "pygments_lexer": "ipython3",
   "version": "3.11.4"
  }
 },
 "nbformat": 4,
 "nbformat_minor": 5
}
