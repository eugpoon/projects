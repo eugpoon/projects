{
 "cells": [
  {
   "cell_type": "markdown",
   "id": "61fbc412-0c6a-4ca1-b06a-21397dcf0eb8",
   "metadata": {},
   "source": [
    "# Traffic in a Post-Lockdown World\n",
    "\n",
    "This project is adapted from Data 100 Final Project, exploring the traffic data provided by the [Uber Movement](https://movement.uber.com/) dataset, specifically in March 2020 when the COVID shutdown began."
   ]
  },
  {
   "cell_type": "code",
   "execution_count": null,
   "id": "cdd71903-3670-4f91-944c-05f6425ac67a",
   "metadata": {
    "scrolled": true
   },
   "outputs": [],
   "source": [
    "%matplotlib inline\n",
    "\n",
    "import matplotlib.pyplot as plt\n",
    "import numpy as np\n",
    "import pandas as pd\n",
    "import seaborn as sns\n",
    "import plotly.express as px\n",
    "import plotly.graph_objs as go\n",
    "from plotly.subplots import make_subplots\n",
    "from plotly.offline import plot, iplot, init_notebook_mode\n",
    "\n",
    "import geopandas as gpd\n",
    "import json\n",
    "import os\n",
    "import contextily as cx\n",
    "import re\n",
    "from typing import Callable\n",
    "\n",
    "from sklearn.linear_model import *\n",
    "from sklearn.model_selection import *\n",
    "import warnings\n",
    "warnings.filterwarnings('ignore')\n",
    "\n",
    "plt.rcParams[\"figure.figsize\"] = (8, 6)\n",
    "plt.rcParams[\"font.size\"] = 14\n",
    "plt.rcParams[\"figure.dpi\"] = 600\n",
    "\n",
    "from IPython.display import display, HTML\n",
    "display(HTML(\"<style>.container { width:100% !important; }</style>\"))"
   ]
  },
  {
   "cell_type": "markdown",
   "id": "28626516-eaf2-4bcb-a76e-75f78685d839",
   "metadata": {},
   "source": [
    "## Data Cleaning\n",
    "We will look at two ways of spatial partitioning, by uniform slices and by population.\n",
    "Key Vocabulary:\n",
    "- Open Street Maps (OSM): IDs provided by [nodes](https://wiki.openstreetmap.org/wiki/Node)\n",
    " and [ways](https://wiki.openstreetmap.org/wiki/Way); Uber Movement uses these IDs to identify streets in the traffic speeds dataset\n",
    "- Census Tracts: IDs assigned according to the US 2010 Census; Uber Movement uses these IDs to identify regions of differing travel times"
   ]
  },
  {
   "cell_type": "markdown",
   "id": "1b4472cc-846c-49c6-8383-9906d8da9005",
   "metadata": {},
   "source": [
    "## Google Plus Codes\n",
    "\n",
    "[Google Plus Codes](https://maps.google.com/pluscodes/) divide up the world uniformly into rectangular slices"
   ]
  },
  {
   "cell_type": "markdown",
   "id": "2e74234d-4b28-4423-acc0-6efcf9bfd27c",
   "metadata": {},
   "source": [
    "#### Load [Uber Traffic Speeds](https://movement.uber.com/explore/san_francisco/speeds/query?dt[tpb]=ALL_DAY&dt[wd;]=1,2,3,4,5,6,7&dt[dr][sd]=2020-03-01&dt[dr][ed]=2020-03-31&ff=&lat.=37.7749295&lng.=-122.4370966&z.=13&lang=en-US)"
   ]
  },
  {
   "cell_type": "code",
   "execution_count": null,
   "id": "c15904a2-b59b-4259-9d32-f5d5bfc48c44",
   "metadata": {},
   "outputs": [],
   "source": [
    "speed_node = pd.read_csv('data/movement-speeds-daily-san-francisco-2020-3.csv')\n",
    "speed_node.head(2)"
   ]
  },
  {
   "cell_type": "markdown",
   "id": "c60ec1df-dff2-487c-b9f9-09bafb44395f",
   "metadata": {},
   "source": [
    "#### Load [Node-to-GPS Coordinates](https://download.bbbike.org/osm/bbbike/SanFrancisco/SanFrancisco.osm.gz)"
   ]
  },
  {
   "cell_type": "code",
   "execution_count": null,
   "id": "ecd1049e-e636-478c-9151-3f25da5fe8e6",
   "metadata": {
    "scrolled": true
   },
   "outputs": [],
   "source": [
    "# Read OSM XML using a regex operation\n",
    "def read_node_lat_lon(path: str, pattern: str, line_condition: Callable):\n",
    "    '''\n",
    "    Read the provided path line at a line. If the provided regex pattern\n",
    "    has a match, return the grouped matches as items in a generator.\n",
    "    \n",
    "    :param path: Path to read data from\n",
    "    :param pattern: Regex pattern to test against each line\n",
    "    :param line_condition: function that returns if we should check regex\n",
    "        against current line\n",
    "    '''\n",
    "    with open(path) as f:\n",
    "        for line in f:\n",
    "            result = re.search(pattern, line)\n",
    "            if result is not None and line_condition(result):\n",
    "                yield int(result.group(1)), float(result.group(2)), float(result.group(3))"
   ]
  },
  {
   "cell_type": "code",
   "execution_count": null,
   "id": "0c4d914f-d289-4d41-8655-0d4a7268fc31",
   "metadata": {},
   "outputs": [],
   "source": [
    "PATH_OSM = os.path.expanduser('data/SanFrancisco.osm')\n",
    "\n",
    "node_ids = set(speed_node.osm_start_node_id) | set(speed_node.osm_end_node_id)\n",
    "\n",
    "NODE_PATTERN = r\"id=\\\"(\\d+)\\\"\\s+lat=\\\"(\\-*\\d+\\.*\\d*)\\\"\\s+lon=\\\"(\\-*\\d+\\.*\\d*)\"\n",
    "\n",
    "node_gps = pd.DataFrame(read_node_lat_lon(\n",
    "    PATH_OSM, pattern=NODE_PATTERN,\n",
    "    line_condition=lambda result: int(result.group(1)) in node_ids\n",
    "), columns=['osm_node_id', 'Latitude', 'Longitude'])\n",
    "node_gps.head(2)"
   ]
  },
  {
   "cell_type": "markdown",
   "id": "265d3f5a-49a7-46ee-9008-80155e9c8837",
   "metadata": {},
   "source": [
    "#### Map Traffic Speeds to GPS Coordinates and Convert to Plus Codes to Regions\n",
    "Assume rectangular regions are 0.012 degrees latitudinally and longitudinally"
   ]
  },
  {
   "cell_type": "code",
   "execution_count": null,
   "id": "886a8759-0538-44b7-9e27-38a5e94f78d3",
   "metadata": {
    "scrolled": true
   },
   "outputs": [],
   "source": [
    "# Map Traffic Speeds to GPS Coordinates\n",
    "speed_gps = speed_node.merge(node_gps, left_on='osm_start_node_id', right_on='osm_node_id')\n",
    "\n",
    "# Convert GPS Coordinates to Plus Code Regions\n",
    "speed_gps['plus_latitude_idx'] = (speed_gps['Latitude'] // 0.012).astype(int) \n",
    "speed_gps['plus_longitude_idx'] = (speed_gps['Longitude'] // 0.012).astype(int)\n",
    "\n",
    "speed_gps.head(2)"
   ]
  },
  {
   "cell_type": "markdown",
   "id": "7efad711-e2ff-47db-b292-877d60b5e453",
   "metadata": {},
   "source": [
    "#### Number of Plus Code Regions in San Francisco"
   ]
  },
  {
   "cell_type": "code",
   "execution_count": null,
   "id": "1ea769d2-bf9e-47f0-a1c4-c3276743fbca",
   "metadata": {},
   "outputs": [],
   "source": [
    "num_pluscode_regions = len(speed_gps[['plus_latitude_idx', 'plus_longitude_idx']].value_counts())\n",
    "num_pluscode_regions"
   ]
  },
  {
   "cell_type": "markdown",
   "id": "d7791b0e-638d-409d-939a-58aa150d1821",
   "metadata": {},
   "source": [
    "### How Well Do Plus Code Regions (Clusters) Summarize Movement Speeds?\n",
    "The differences between subpopulations (10.14) slightly outweigh the differences within subpopulations (8.68). Thus, plus codes may not be the most meaningful subdivider of populations as they don’t take into account demographic or traffic conditions, just uniform division by size."
   ]
  },
  {
   "cell_type": "code",
   "execution_count": null,
   "id": "cddbe0a6-0f19-4876-b6da-1b0c998d0aaa",
   "metadata": {
    "scrolled": true
   },
   "outputs": [],
   "source": [
    "speed_pc = speed_gps.groupby(['plus_latitude_idx', 'plus_longitude_idx']) \n",
    "avg_sd_pc = speed_pc.agg('std')['speed_mph_mean'].mean()\n",
    "sd_avg_pc = speed_pc.agg('mean')['speed_mph_mean'].std()\n",
    "print('Average of Standard Deviation by Plus Codes:', avg_sd_pc)\n",
    "print('Standard Deviation of Average by Plus Codes:', sd_avg_pc)"
   ]
  },
  {
   "cell_type": "code",
   "execution_count": null,
   "id": "978a3f67-25ca-45cd-aac9-efb893baad39",
   "metadata": {},
   "outputs": [],
   "source": [
    "# Plot Histogram: Standard Deviation by Plus Codes\n",
    "plt.hist(speed_pc.agg('std')['speed_mph_mean'], density=True, ec='w');\n",
    "plt.title('Distribution of Traffic Speed Standard Deviation Within-Cluster ');\n",
    "plt.xlabel('Traffic Speed Standard Deviation (mph)');\n",
    "plt.ylabel('Density');"
   ]
  },
  {
   "cell_type": "markdown",
   "id": "0edaf66a-88ed-4fac-a9d3-f571104c82f0",
   "metadata": {},
   "source": [
    "## Census Tract\n",
    "\n",
    "Census tracts divide up the world based on population"
   ]
  },
  {
   "cell_type": "markdown",
   "id": "e2529a5e-1403-477e-8e49-5236c6c89642",
   "metadata": {},
   "source": [
    "#### Load [Census Tracts Geojson](https://movement.uber.com/explore/san_francisco/travel-times/query?si=1277&ti=&ag=censustracts&dt[tpb]=ALL_DAY&dt[wd;]=1,2,3,4,5,6,7&dt[dr][sd]=2020-03-01&dt[dr][ed]=2020-03-31&cd=&sa;=&sdn=&lat.=37.7749295&lng.=-122.4547777&z.=12&lang=en-US)\n",
    "Download Data -> Geo Boundaries"
   ]
  },
  {
   "cell_type": "code",
   "execution_count": null,
   "id": "f09bac2f-d880-49fd-88c0-17cc3ea29fa0",
   "metadata": {
    "scrolled": true
   },
   "outputs": [],
   "source": [
    "PATH_TRACTS = os.path.expanduser('data/san_francisco_censustracts.json')\n",
    "tract_gps = gpd.read_file(PATH_TRACTS)\n",
    "tract_gps['MOVEMENT_ID'] = tract_gps['MOVEMENT_ID'].astype(int)\n",
    "tract_gps.head(2)"
   ]
  },
  {
   "cell_type": "markdown",
   "id": "1ffb3804-f605-427e-ad11-8e941485eba2",
   "metadata": {},
   "source": [
    "#### Map Traffic Speed to Census Tracts"
   ]
  },
  {
   "cell_type": "code",
   "execution_count": null,
   "id": "89a239ce-152c-4b7e-ba85-f882c6913a6e",
   "metadata": {},
   "outputs": [],
   "source": [
    "speed_tract = (gpd.GeoDataFrame(speed_gps, geometry=gpd.points_from_xy(speed_gps.Longitude, speed_gps.Latitude))\n",
    "                   .set_crs('epsg:4326').sjoin(tract_gps))\n",
    "\n",
    "speed_tract.head(2)"
   ]
  },
  {
   "cell_type": "markdown",
   "id": "88efccee-ecab-49b4-9dd3-b9084c34fa6d",
   "metadata": {},
   "source": [
    "#### Number of Census Tracts"
   ]
  },
  {
   "cell_type": "code",
   "execution_count": null,
   "id": "417c37f9-ad34-45ff-ac2b-19b7d36b50e9",
   "metadata": {},
   "outputs": [],
   "source": [
    "num_ct = len(speed_tract.groupby('MOVEMENT_ID'))\n",
    "num_ct"
   ]
  },
  {
   "cell_type": "markdown",
   "id": "6f0d8207-81ed-4791-9edd-c4d30213631d",
   "metadata": {},
   "source": [
    "### How Well Do Census Tracts (Clusters) Summarize Movement Speeds?\n",
    "The differences between (8.35) and within (8.30) subpopulations do not differ too much. Thus, census tracts are not a very effective way of creating meaningful spatial subpopulations."
   ]
  },
  {
   "cell_type": "code",
   "execution_count": null,
   "id": "941830d5-54e1-4203-ba3b-70f9fac0b308",
   "metadata": {},
   "outputs": [],
   "source": [
    "speed_t = speed_tract.groupby('MOVEMENT_ID')\n",
    "avg_sd_t = speed_t.agg('std')['speed_mph_mean'].mean()\n",
    "sd_avg_t = speed_t.agg('mean')['speed_mph_mean'].std()\n",
    "print('Average of Standard Deviation by Census Tracts:', avg_sd_t)\n",
    "print('Standard Deviation of Average by Census Tracts:', sd_avg_t)"
   ]
  },
  {
   "cell_type": "code",
   "execution_count": null,
   "id": "132510cc-a738-46b1-afb3-76f91e4e3f69",
   "metadata": {},
   "outputs": [],
   "source": [
    "# Plot Histogram: Standard Deviation by Census Tracts\n",
    "plt.hist(speed_t.agg('std')['speed_mph_mean'], density=True, ec='w');\n",
    "plt.title('Distribution of Traffic Speed Standard Deviation Within-Cluster ');\n",
    "plt.xlabel('Traffic Speed Standard Deviation (mph)');\n",
    "plt.ylabel('Density');"
   ]
  },
  {
   "cell_type": "markdown",
   "id": "6d45f89b-912b-4b1c-9417-9d933d4cbba1",
   "metadata": {},
   "source": [
    "\n"
   ]
  },
  {
   "cell_type": "markdown",
   "id": "9d0758ac-5111-4776-96db-36dda5108019",
   "metadata": {},
   "source": [
    "\n"
   ]
  },
  {
   "cell_type": "markdown",
   "id": "a15d3740-58c8-453e-ad18-d9785e4c6107",
   "metadata": {},
   "source": [
    "\n"
   ]
  },
  {
   "cell_type": "markdown",
   "id": "5f38fdd8-6e6f-407d-bce7-d73a5e091857",
   "metadata": {},
   "source": [
    "\n"
   ]
  },
  {
   "cell_type": "markdown",
   "id": "8b56e91a-4859-4f76-8d34-f5270600e655",
   "metadata": {},
   "source": [
    "# **EDA: Understand COVID Lockdown Impact on Traffic**"
   ]
  },
  {
   "cell_type": "markdown",
   "id": "2db78c71-d92c-4ac8-b8bc-43555ff7ee61",
   "metadata": {},
   "source": [
    "## How did lockdown affect traffic speed?\n",
    "Post lockdown average speeds skew higher, with the maximum reaching 70 mph compared to almost 60 for pre-lockdown. People can drive faster with fewer cars on the road as people stay home and have less reason to commute."
   ]
  },
  {
   "cell_type": "markdown",
   "id": "46b58700-1ad4-4a4d-8678-09609296b418",
   "metadata": {},
   "source": [
    "### Pre-Lockdown:  March 1  - 13, 2020"
   ]
  },
  {
   "cell_type": "code",
   "execution_count": null,
   "id": "390a04ce-0aab-4b2a-a0cf-43aa7c938bee",
   "metadata": {},
   "outputs": [],
   "source": [
    "speed_pre = (speed_tract[speed_tract['day'] < 14].groupby('MOVEMENT_ID', as_index=False).mean()\n",
    "                        .merge(tract_gps)[['DISPLAY_NAME', 'geometry', 'speed_mph_mean']])\n",
    "speed_pre.head(2)"
   ]
  },
  {
   "cell_type": "code",
   "execution_count": null,
   "id": "52de61fc-e211-4668-a598-0605b163d8bd",
   "metadata": {
    "scrolled": true
   },
   "outputs": [],
   "source": [
    "plt.hist(speed_pre['speed_mph_mean'], density=True, ec='w');\n",
    "plt.title('Distribution of Average Traffic Speed Pre-lockdown By Census Tract');\n",
    "plt.xlabel('Average Traffic Speed (mph)');\n",
    "plt.ylabel('Density');"
   ]
  },
  {
   "cell_type": "markdown",
   "id": "17ba7c75-bacb-4729-9891-c1948f52ec8f",
   "metadata": {},
   "source": [
    "#### Census Tracts with the Lowest Average Traffic Speeds"
   ]
  },
  {
   "cell_type": "code",
   "execution_count": null,
   "id": "1cbef432-8b41-493c-a6f7-76254c63da7c",
   "metadata": {
    "scrolled": true
   },
   "outputs": [],
   "source": [
    "speed_pre_low = speed_pre.sort_values('speed_mph_mean').iloc[0:5, :]\n",
    "speed_pre_low"
   ]
  },
  {
   "cell_type": "markdown",
   "id": "83658c00-c395-41b2-a6a3-670952a0f865",
   "metadata": {},
   "source": [
    "#### Census Tracts with the Highest Average Traffic Speeds"
   ]
  },
  {
   "cell_type": "code",
   "execution_count": null,
   "id": "4b2d9a77-bf57-4faf-9997-c5cc99c28c03",
   "metadata": {},
   "outputs": [],
   "source": [
    "speed_pre_high = speed_pre.sort_values('speed_mph_mean', ascending = False).iloc[:5,:]\n",
    "speed_pre_high"
   ]
  },
  {
   "cell_type": "markdown",
   "id": "646e2726-6a7c-4b09-9ae9-759451d99f57",
   "metadata": {},
   "source": [
    "### Post-Lockdown: March 14 - 31, 2020"
   ]
  },
  {
   "cell_type": "code",
   "execution_count": null,
   "id": "41c1f940-ada3-4112-a400-9164cfd5b950",
   "metadata": {},
   "outputs": [],
   "source": [
    "speed_pos = (speed_tract[speed_tract['day'] >= 14].groupby('MOVEMENT_ID', as_index=False).mean()\n",
    "                        .merge(tract_gps)[['DISPLAY_NAME', 'geometry', 'speed_mph_mean']])\n",
    "speed_pos.head(2)"
   ]
  },
  {
   "cell_type": "code",
   "execution_count": null,
   "id": "817c6790-288a-4f54-a3a5-290d67b39cff",
   "metadata": {},
   "outputs": [],
   "source": [
    "plt.hist(speed_pos['speed_mph_mean'], density=True, ec='w');\n",
    "plt.title('Distribution of Average Traffic Speed Post-lockdown By Census Tract');\n",
    "plt.xlabel('Average Traffic Speed (mph)');\n",
    "plt.ylabel('Density');"
   ]
  },
  {
   "cell_type": "markdown",
   "id": "5b0cd1cf-7168-400c-89da-130a05e3292a",
   "metadata": {},
   "source": [
    "#### Census Tracts with the Lowest Average Traffic Speeds"
   ]
  },
  {
   "cell_type": "code",
   "execution_count": null,
   "id": "d87ad7b9-93bc-4290-8345-cf717b6befad",
   "metadata": {},
   "outputs": [],
   "source": [
    "speed_pos_low = speed_pos.sort_values('speed_mph_mean').iloc[0:5, :]\n",
    "speed_pos_low"
   ]
  },
  {
   "cell_type": "markdown",
   "id": "6c09aa96-c013-4f42-8774-940df923153e",
   "metadata": {},
   "source": [
    "#### Census Tracts with the Highest Average Traffic Speeds"
   ]
  },
  {
   "cell_type": "code",
   "execution_count": null,
   "id": "3383a7ad-5b5d-4451-b0a8-da1469f81629",
   "metadata": {},
   "outputs": [],
   "source": [
    "speed_pos_high = speed_pos.sort_values('speed_mph_mean', ascending = False).iloc[:5,:]\n",
    "speed_pos_high"
   ]
  },
  {
   "cell_type": "markdown",
   "id": "0223ae34-7d63-447a-9f88-a73a1e7f3645",
   "metadata": {},
   "source": [
    "### Change in Traffic Speed"
   ]
  },
  {
   "cell_type": "code",
   "execution_count": null,
   "id": "39382ce0-cb98-4e19-a4f3-71c8b691cdbe",
   "metadata": {},
   "outputs": [],
   "source": [
    "pre_post = speed_pre.merge(speed_pos, on='DISPLAY_NAME') \\\n",
    "          .rename(columns={'speed_mph_mean_x': 'speed_mph_mean_pre', \n",
    "                           'speed_mph_mean_y': 'speed_mph_mean_post',\n",
    "                           'geometry_x': 'geometry'}) \\\n",
    "          .drop(columns=['geometry_y'])\n",
    "differences = pre_post['speed_mph_mean_post'] - pre_post['speed_mph_mean_pre']\n",
    "\n",
    "# Plot Histograme: Differences\n",
    "plt.hist(differences, density=True, ec='w');\n",
    "plt.title('Distribution of Average Traffic Speed Difference Pre and Post-lockdown By Census Tract');\n",
    "plt.xlabel('Difference in Average Traffic Speed (mph)');\n",
    "plt.ylabel('Density');"
   ]
  },
  {
   "cell_type": "markdown",
   "id": "190c538c-01e5-43c1-8b3b-fa3325ff325d",
   "metadata": {},
   "source": [
    "### Average Speed by Day\n",
    "The change in speed increases gradually until March 16, 2020, where it had a sharp increase between the 16th and 17th and continued to increase gradually. After implementing shelter-in-place on the 16th, nearly 7 million residents had to restrict activities, leading to fewer people on the road (ABC news).  With fewer people, there was less traffic, and people could drive faster, which resulted in the jump in average speed."
   ]
  },
  {
   "cell_type": "code",
   "execution_count": null,
   "id": "fe96f139-7089-426f-94ea-b0c9a3c27d9b",
   "metadata": {},
   "outputs": [],
   "source": [
    "speeds_daily = speed_tract.groupby('day').agg('mean')['speed_mph_mean']\n",
    "plt.plot(speeds_daily.index.values, speeds_daily);\n",
    "plt.title('Average Traffic Speed By Day');\n",
    "plt.xlabel('Day');\n",
    "plt.ylabel('Average Traffic Speed (mph)');"
   ]
  },
  {
   "cell_type": "markdown",
   "id": "5abe9aa8-3718-4bdd-8391-85ff03209c07",
   "metadata": {},
   "source": [
    "### Correlations\n",
    "The correlation for pre-lockdown and differences is lower than for post-lockdown, despite both being positive. The correlation for pre-lockdown is lower because more cars were on the road during that time, leading to higher differences from more variability between pre-lockdown speeds and differences. The correlation for post-lockdown is higher due to less traffic from fewer cars. Thus, there are fewer differences to calculate, and the variability between pre-lockdown speeds and differences is lower."
   ]
  },
  {
   "cell_type": "code",
   "execution_count": null,
   "id": "abe6856c-0c65-4e9d-901a-97b56271a2fd",
   "metadata": {},
   "outputs": [],
   "source": [
    "corr_pre_diff = np.corrcoef(pre_post['speed_mph_mean_pre'], differences)[0][1]\n",
    "corr_pos_diff = np.corrcoef(pre_post['speed_mph_mean_post'], differences)[0][1]\n",
    "print('Correlation Between Pre-Lockdown  and Change in Average Speeds:', corr_pre_diff)\n",
    "print('Correlation Between Post-Lockdown and Change in Average Speeds:', corr_pos_diff)"
   ]
  },
  {
   "cell_type": "markdown",
   "id": "eacd4ee7-e13e-4e55-9685-ec76d1c82271",
   "metadata": {},
   "source": [
    "## What traffic areas were impacted by lockdown?\n",
    "#### Spatial Heatmap (Left): Pre-Lockdown Average Traffic Speed per Census Tract\n",
    "Most areas with low traffic speeds (0-25 mph) are located within the center of San Francisco (Union Square, Financial District), which is densely populated and has narrow, complicated streets. Cars have difficulty moving when there are a lot of pedestrians and other vehicles, which is why San Francisco has a lower average lower traffic speed. \n",
    "#### Spatial Heatmap (Right): Change in Average Daily Speeds Pre vs. Post Lockdown\n",
    "Hillsborough, a residential town, had the most drastic increase in average speed (~35mph) from pre-lockdown. With fewer people going out and no cars around, people are more likely to drive faster than before. San Fransisco had little impact due to the unchangeable characteristics of the city, such as complicated road systems and steep hills. People still have to stop at the numerous traffic lights and stop signs, driver slower on hills, and the city remains densely populated."
   ]
  },
  {
   "cell_type": "code",
   "execution_count": null,
   "id": "69fe0c78-ec5e-4080-8c46-6cefe91f6c4e",
   "metadata": {},
   "outputs": [],
   "source": [
    "pre_post['differences'] = differences\n",
    "\n",
    "fig, axs = plt.subplots(ncols=2, figsize=(20, 10))\n",
    "cx.add_basemap(gpd.GeoDataFrame(speed_pre).to_crs(epsg=3857).plot(column='speed_mph_mean', \n",
    "               legend_kwds={'label': 'Average Traffic Speed (mph)'}, \n",
    "               legend=True, alpha=0.7, figsize=(10, 10), ax=axs[0]));\n",
    "cx.add_basemap(gpd.GeoDataFrame(pre_post).to_crs(epsg=3857).plot(column='differences', \n",
    "               legend_kwds={'label': 'Average Traffic Speed Difference (mph)'}, \n",
    "               legend=True, alpha=0.7, figsize=(10, 10), ax=axs[1]));\n",
    "axs[0].set(title='Pre-Lockdown Average Traffic Speed By Census Tract',\n",
    "           xlabel='Longitude', ylabel='Latitude');\n",
    "axs[1].set(title='Average Traffic Speed Difference By Census Tract',\n",
    "           xlabel='Longitude', ylabel='Latitude');"
   ]
  },
  {
   "cell_type": "markdown",
   "id": "c52fa63a-c9ce-4fcd-8f11-a401aad75ce4",
   "metadata": {},
   "source": [
    "\n"
   ]
  },
  {
   "cell_type": "markdown",
   "id": "40df15ba-5c69-4286-9e0a-f21a4c0bff06",
   "metadata": {},
   "source": [
    "\n"
   ]
  },
  {
   "cell_type": "markdown",
   "id": "a87651cf-5a36-4a91-af54-7fc5a76323ab",
   "metadata": {},
   "source": [
    "\n"
   ]
  },
  {
   "cell_type": "markdown",
   "id": "56806985-ae67-4984-b4b4-7800e3400b38",
   "metadata": {
    "tags": []
   },
   "source": [
    "\n"
   ]
  },
  {
   "cell_type": "markdown",
   "id": "d86afaf7-703b-45e3-aea6-42ae3448e635",
   "metadata": {
    "tags": []
   },
   "source": [
    "# **EDA: Understand Lockdown Impact on Travel Times**\n",
    "How were travel times impacted using the origin as 300 Hayes Street and traveling to other destinations?\n",
    "\n",
    "- How did lockdown affect travel times? Are there any meaningful factors that determined how travel time would be impacted? How was travel time affected over time?\n",
    "- Travel to which destinations were affected by lockdown? Are there surprisingly disproportionate amounts of impact in certain areas?"
   ]
  },
  {
   "cell_type": "markdown",
   "id": "540f92c9-1613-487c-bcca-9c55a0db4474",
   "metadata": {},
   "source": [
    "## Load [Travel Times](https://movement.uber.com/explore/san_francisco/travel-times/query?si=1277&ti=&ag=censustracts&dt[tpb]=ALL_DAY&dt[wd;]=1,2,3,4,5,6,7&dt[dr][sd]=2020-03-01&dt[dr][ed]=2020-03-31&cd=&sa;=&sdn=&lang=en-US)\n",
    "\n",
    "- Which routes from Hayes Valley had a similar impact on travel time? Did they share any factors in common (same place or similar areas)?\n",
    "- Were clusters of routes impacted more severely than others over time? What determined the degree of impact?"
   ]
  },
  {
   "cell_type": "code",
   "execution_count": null,
   "id": "de9902b8-4a1c-4e47-826d-a36212869b57",
   "metadata": {
    "scrolled": true
   },
   "outputs": [],
   "source": [
    "PATH_TIMES = 'data/travel-times-daily-san-francisco-2020-3.csv'\n",
    "time_tract = pd.read_csv(PATH_TIMES)\n",
    "time_tract.head(2)"
   ]
  },
  {
   "cell_type": "markdown",
   "id": "fe086f53-a5cc-4ce8-b9f6-9260e3367ee6",
   "metadata": {},
   "source": [
    "### Average Travel Time\n",
    "Most travel times fall around 1300 seconds or about 20 minutes. The distribution is right-skewed, indicating that most destinations are close to the origin or have shorter travel times."
   ]
  },
  {
   "cell_type": "code",
   "execution_count": null,
   "id": "feb875eb-4323-49a9-ae5c-2ad0f61b623e",
   "metadata": {},
   "outputs": [],
   "source": [
    "# Average Travel Time By Cluster\n",
    "mean_time = time_tract[['Destination Movement ID', 'day', 'Mean Travel Time (Seconds)', 'Destination Display Name']]\n",
    "mean_time.groupby('Destination Movement ID', as_index=False).mean()['Mean Travel Time (Seconds)'].describe()"
   ]
  },
  {
   "cell_type": "code",
   "execution_count": null,
   "id": "e8e9ff32-aa12-4147-a01b-f1f14b530902",
   "metadata": {},
   "outputs": [],
   "source": [
    "# Plot Histogram: Average Travel Time\n",
    "sns.histplot(mean_time.groupby('Destination Movement ID', as_index=False).mean(),\n",
    "             x='Mean Travel Time (Seconds)', stat='density', kde=True);\n",
    "plt.title('Distribution of Average Travel Time By Cluster');\n",
    "plt.xlabel('Average Travel Time (seconds)');"
   ]
  },
  {
   "cell_type": "markdown",
   "id": "97045e1a-41bc-402f-8b30-6aa99d6a267b",
   "metadata": {},
   "source": [
    "### Pre vs Post-Lockdown Average Travel Time\n",
    "From the comparison plot below, the post-lockdown travel time distribution has a shorter right tail than the pre-lockdown distribution. Travel times generally shorten from pre to post-lockdown."
   ]
  },
  {
   "cell_type": "code",
   "execution_count": null,
   "id": "eea7f323-75ad-408c-ac1c-4725a3c36726",
   "metadata": {},
   "outputs": [],
   "source": [
    "# Pre vs Post-lockdown\n",
    "pre_time = mean_time[mean_time['day'] < 14].groupby('Destination Movement ID', as_index=False).mean()\n",
    "pos_time = mean_time[mean_time['day'] >= 14].groupby('Destination Movement ID', as_index=False).mean()\n",
    "\n",
    "# Plot Histogram: Pre vs Post Average Travel Time\n",
    "sns.histplot(pre_time, x='Mean Travel Time (Seconds)', stat='density', kde=True);\n",
    "sns.histplot(pos_time, x='Mean Travel Time (Seconds)', stat='density', kde=True, color='green');\n",
    "plt.title('Distribution of Average Travel Time By Cluster (Pre vs Post-lockdown)');\n",
    "plt.xlabel('Average Travel Time (seconds)');\n",
    "plt.legend(labels=['Pre-lockdown','Post-lockdown']);"
   ]
  },
  {
   "cell_type": "markdown",
   "id": "5dc35af7-3682-4073-8b62-dccbdf38ec5a",
   "metadata": {},
   "source": [
    "### Change in Travel Time by Census Tract"
   ]
  },
  {
   "cell_type": "markdown",
   "id": "15d429f5-9c86-4f26-bf33-7f746ca99445",
   "metadata": {},
   "source": [
    "On average, travel time decreased after enforcing COVID lockdown."
   ]
  },
  {
   "cell_type": "code",
   "execution_count": null,
   "id": "59ada334-21b0-46ac-85c3-03ff4828b03e",
   "metadata": {},
   "outputs": [],
   "source": [
    "# Difference by Cluster\n",
    "pre_pos_time = (pre_time.merge(pos_time, on='Destination Movement ID') \n",
    "          .rename(columns={'Mean Travel Time (Seconds)_x': 'Mean Travel Time (Seconds)_pre', \n",
    "                           'Mean Travel Time (Seconds)_y': 'Mean Travel Time (Seconds)_post',\n",
    "                           'day_x': 'day_pre', 'day_y': 'day_post'}) \n",
    "          .merge(time_tract[['Destination Movement ID', 'Destination Display Name']]) \n",
    "          .drop_duplicates())\n",
    "pre_pos_time['post-pre diff'] = pre_pos_time['Mean Travel Time (Seconds)_post'] - pre_pos_time['Mean Travel Time (Seconds)_pre']\n",
    "pre_pos_time['post-pre diff'].describe()"
   ]
  },
  {
   "cell_type": "code",
   "execution_count": null,
   "id": "cf7a5ca3-b49b-49b8-b7b2-d6f87b5e3639",
   "metadata": {},
   "outputs": [],
   "source": [
    "# Plot Histogram: Change\n",
    "plt.hist(pre_pos_time['post-pre diff'], density=True, ec='w');\n",
    "plt.title('Distribution of Average Traffic Speed Difference Pre and Post-lockdown By Census Tract');\n",
    "plt.xlabel('Difference in Average Traffic Speed (mph)');\n",
    "plt.ylabel('Density');"
   ]
  },
  {
   "cell_type": "markdown",
   "id": "1f7f6605-c531-4f45-ad6a-cd30d02c54a8",
   "metadata": {},
   "source": [
    "#### Census Tracts with Increased Average Travel Time From Pre-Lockdown"
   ]
  },
  {
   "cell_type": "code",
   "execution_count": null,
   "id": "b5a9c5dc-4ab6-4e04-9260-7bef427ad7ef",
   "metadata": {},
   "outputs": [],
   "source": [
    "inc_time = pre_pos_time.sort_values('post-pre diff', ascending = False).iloc[:10, 5:]\n",
    "inc_time"
   ]
  },
  {
   "cell_type": "markdown",
   "id": "251a44a6-8f5d-4956-bac4-3ae44b4f61db",
   "metadata": {},
   "source": [
    "#### Census Tracts with Decreased Average Travel Time From Pre-Lockdown"
   ]
  },
  {
   "cell_type": "code",
   "execution_count": null,
   "id": "fe35629a-700a-4648-9060-46d57201d4e9",
   "metadata": {},
   "outputs": [],
   "source": [
    "dec_time = pre_pos_time.sort_values('post-pre diff').iloc[:10, 5:]\n",
    "dec_time"
   ]
  },
  {
   "cell_type": "markdown",
   "id": "1d540516-d4ec-4cb5-92bb-ef1f0196e95a",
   "metadata": {},
   "source": [
    "## What traffic areas were impacted by lockdown?\n",
    "#### Spatial Heatmap (Left): Pre-Lockdown Average Travel Time per Census Tract\n",
    "Travel time generally increases as the distance from the origin increases.\n",
    "#### Spatial Heatmap (Right): Change in Average Travel Time Pre vs. Post Lockdown\n",
    "Travel time increased for areas near or north of San Francisco. Travel time decreased the most for areas far or south of San Francisco."
   ]
  },
  {
   "cell_type": "code",
   "execution_count": null,
   "id": "5dc6a10c-c07d-49d9-a87e-56f191deea41",
   "metadata": {},
   "outputs": [],
   "source": [
    "pre_time_geo = (gpd.GeoDataFrame(pre_time)\n",
    "                   .merge(tract_gps, left_on='Destination Movement ID', right_on='MOVEMENT_ID')\n",
    "                   .set_crs('epsg:4326'))\n",
    "pre_pos_time_geo = (gpd.GeoDataFrame(pre_pos_time)\n",
    "                       .merge(tract_gps, left_on='Destination Movement ID', right_on='MOVEMENT_ID')\n",
    "                       .set_crs('epsg:4326'))\n",
    "\n",
    "fig, axs = plt.subplots(ncols=2, figsize=(20, 10))\n",
    "cx.add_basemap(pre_time_geo.to_crs(epsg=3857).plot(column='Mean Travel Time (Seconds)', \n",
    "               legend_kwds={'label': 'Average Travel Time (seconds)'}, \n",
    "               legend=True, alpha=0.7, figsize=(10, 10), ax=axs[0]));\n",
    "cx.add_basemap(pre_pos_time_geo.to_crs(epsg=3857).plot(column='post-pre diff', \n",
    "               legend_kwds={'label': 'Average Travel Time Difference (seconds)'}, \n",
    "               legend=True, alpha=0.7, figsize=(10, 10), ax=axs[1]));\n",
    "axs[0].set(title='Pre-Lockdown Average Travel Time By Census Tract',\n",
    "           xlabel='Longitude', ylabel='Latitude');\n",
    "axs[1].set(title='Average Travel Time Difference Pre and Post-lockdown By Cluster',\n",
    "           xlabel='Longitude', ylabel='Latitude');"
   ]
  },
  {
   "cell_type": "markdown",
   "id": "3487d6ae-9e07-4677-af28-65b2cae6472e",
   "metadata": {},
   "source": [
    "## Was Travel Time Impacted for Each Day of the Week?\n",
    "Travel time experienced more change on weekdays than on weekends, likely due to people working from home and no longer needing to drive to work. Empty roads replaced traffic congestion during rush hours on the weekdays when the state ordered a shelter in place. Weekend traffic is consistent throughout the day, so travel time did not change much."
   ]
  },
  {
   "cell_type": "code",
   "execution_count": null,
   "id": "0dff5a24-13be-481c-8fe3-495e5cf3db45",
   "metadata": {},
   "outputs": [],
   "source": [
    "# Average Travel Time By Day of the Week\n",
    "days = ['Sunday', 'Monday', 'Tuesday', 'Wednesday', 'Thursday', 'Friday', 'Saturday']\n",
    "time_tract['day_of_week'] = (time_tract[['day']] % 7).replace([1, 2, 3, 4, 5, 6, 0], days)\n",
    "by_day = (time_tract.groupby(['Destination Movement ID', 'day_of_week'], as_index=False).mean()\n",
    "          [['Destination Movement ID', 'day_of_week', 'Mean Travel Time (Seconds)']]\n",
    "          .groupby('day_of_week', as_index=False).mean().set_index('day_of_week').reindex(days))\n",
    "\n",
    "# Difference by Day\n",
    "pre_day = time_tract[time_tract['day'] < 14] \\\n",
    "          [['Destination Movement ID', 'Mean Travel Time (Seconds)', 'day_of_week']] \\\n",
    "          .groupby(['Destination Movement ID', 'day_of_week'], as_index=False).mean()\n",
    "post_day = time_tract[time_tract['day'] >= 14] \\\n",
    "           [['Destination Movement ID', 'Mean Travel Time (Seconds)', 'day_of_week']] \\\n",
    "           .groupby(['Destination Movement ID', 'day_of_week'], as_index=False).mean()\n",
    "pre_post_day = pre_day.merge(post_day, on=['Destination Movement ID', 'day_of_week']) \\\n",
    "          .rename(columns={'Mean Travel Time (Seconds)_x': 'Mean Travel Time (Seconds)_pre', \n",
    "                           'Mean Travel Time (Seconds)_y': 'Mean Travel Time (Seconds)_post'}) \\\n",
    "          .merge(time_tract[['Destination Movement ID', 'Destination Display Name']]) \\\n",
    "          .drop_duplicates()\n",
    "pre_post_day['post-pre diff'] = pre_post_day['Mean Travel Time (Seconds)_post'] - pre_post_day['Mean Travel Time (Seconds)_pre']\n",
    "diff_day = pre_post_day.groupby('day_of_week', as_index=False).mean().set_index('day_of_week').reindex(days)\n",
    "pre_post_day['change'] = pre_post_day['post-pre diff'] / pre_post_day['Mean Travel Time (Seconds)_pre']\n",
    "\n",
    "pre_post_day['week'] = (pre_post_day['day_of_week']\n",
    "                        .replace({'Sunday': 'Weekend', 'Saturday': 'Weekend', \n",
    "                                  'Monday':'Weekday', 'Tuesday': 'Weekday', \n",
    "                                  'Wednesday': 'Weekday', 'Thursday': 'Weekday', \n",
    "                                  'Friday': 'Weekday'}))\n",
    "# Extract City Names\n",
    "# pre_post_day['city'] = pre_post_day['Destination Display Name'].str.split(', ').str[-1]"
   ]
  },
  {
   "cell_type": "code",
   "execution_count": null,
   "id": "584225a6-55e6-448c-b1ea-487bd2efdc71",
   "metadata": {},
   "outputs": [],
   "source": [
    "# Plot Histogram: Average Travel Time and Differences by Day\n",
    "fig, axs = plt.subplots(nrows=2, figsize=(10, 10))\n",
    "sns.barplot(x=by_day.index.values, y='Mean Travel Time (Seconds)', data=by_day, ax=axs[0]);\n",
    "sns.barplot(x=diff_day.index.values, y='post-pre diff', data=diff_day, ax=axs[1]);\n",
    "\n",
    "axs[0].set(title='Average Travel Time By Day', ylim=(1100, 1300));\n",
    "axs[1].set(title='Average Travel Time Differences By Day', xlabel='Day');"
   ]
  },
  {
   "cell_type": "code",
   "execution_count": null,
   "id": "fbae5bd5-98aa-4e7a-97c9-63dfc20a8701",
   "metadata": {},
   "outputs": [],
   "source": [
    "# Plot KDE: Travel Time by Day\n",
    "fig, axs = plt.subplots(nrows=2, ncols=2, figsize=(20, 20))\n",
    "sns.kdeplot(data=pre_post_day, hue='day_of_week', hue_order=days, x='post-pre diff', ax=axs[0, 0]);\n",
    "sns.kdeplot(data=pre_post_day, hue='week', x='post-pre diff', ax=axs[0, 1]);\n",
    "sns.kdeplot(data=pre_post_day, hue='day_of_week', hue_order=days, x='change', ax=axs[1, 0]);\n",
    "sns.kdeplot(data=pre_post_day, hue='week', x='change', ax=axs[1, 1]);\n",
    "\n",
    "axs[0, 0].set(title='Distribution of Average Travel Time Difference by Day of the Week', \n",
    "           xlabel='Average Travel Time Difference', xlim=(-750, 500));\n",
    "axs[0, 1].set(title='Distribution of Average Travel Time Difference Weekday vs Weekend', \n",
    "           xlabel='Average Travel Time Difference', xlim=(-750, 500));\n",
    "axs[1, 0].set(title='Distribution of Relative Travel Time Change by Day of the Week', \n",
    "           xlabel='Average Travel Time Difference', xlim=(-0.6, 0.5));\n",
    "axs[1, 1].set(title='Distribution of Relative Travel Time Change Weekday vs Weekend', \n",
    "           xlabel='Relative Travel Time Change', xlim=(-0.6, 0.5));"
   ]
  },
  {
   "cell_type": "markdown",
   "id": "e9eb392c-4635-4a3b-8ab2-83ebaff00ebf",
   "metadata": {},
   "source": [
    "\n"
   ]
  },
  {
   "cell_type": "markdown",
   "id": "ef19c33f-5614-47eb-a671-21d60da3c6bc",
   "metadata": {},
   "source": [
    "\n"
   ]
  },
  {
   "cell_type": "markdown",
   "id": "57bd1f6a-d4bb-49de-8d3c-233e09d22dfa",
   "metadata": {},
   "source": [
    "\n"
   ]
  },
  {
   "cell_type": "markdown",
   "id": "f7a1805e-4adf-46b7-9aaa-50084aff674d",
   "metadata": {
    "tags": []
   },
   "source": [
    "\n"
   ]
  },
  {
   "cell_type": "markdown",
   "id": "2324d4cc",
   "metadata": {
    "tags": []
   },
   "source": [
    "# Modeling: Predict Traffic Speeds Post-Lockdown"
   ]
  },
  {
   "cell_type": "markdown",
   "id": "d00c0fb2",
   "metadata": {},
   "source": [
    "## Predict Daily Traffic Speed on Pre-Lockdown Data\n",
    "\n",
    "Predict daily traffic speed per census tract, given the previous $k=5$ days' traffic speeds. Each sample includes speed averages from the previous 5 days for each census track."
   ]
  },
  {
   "cell_type": "code",
   "execution_count": null,
   "id": "6a10ed6a",
   "metadata": {},
   "outputs": [],
   "source": [
    "def dataframe_to_time_series(df: pd.DataFrame):\n",
    "    '''Convert dataframe into a 'time series'.\n",
    "    \n",
    "    :param df: original dataframe, mapping speeds to census tracts.\n",
    "               contains the 'MOVEMENT_ID', 'day', and 'speed_mph_mean'\n",
    "    :return: new dataframe with dimensions n x d, where\n",
    "        n: number of samples (census tracts)\n",
    "        d: number of dimensions (days)\n",
    "        values are the speeds\n",
    "    '''\n",
    "    return df[['day', 'speed_mph_mean', 'MOVEMENT_ID']].groupby(['MOVEMENT_ID', 'day']).mean().unstack()\n",
    "\n",
    "def time_series_to_numpy(df: pd.DataFrame, T: int, n_val: int):\n",
    "    '''Convert 'time series' into train-validate splits, in numpy\n",
    "    Assume dataframe contains a 'day' column starting from 1 and are consecutive.\n",
    "    \n",
    "    :param df: dataframe with dimensions n x d\n",
    "        n: number of samples (census tracts)\n",
    "        d: number of dimensions (days)\n",
    "        values are the speeds\n",
    "    :param T: number of days to include in each training sample\n",
    "    :param n_val: number of days to hold out for the validation set\n",
    "    :return: Set of 4 numpy arrays - X_train, y_train, X_val, y_val - where\n",
    "        X_* arrays are (n, T) and y_* arrays are (n,).\n",
    "    '''\n",
    "    X_train = pd.DataFrame()\n",
    "    for t in np.arange(df.shape[1]-T-n_val):\n",
    "        x_t = df.iloc[:, t:t+T].values\n",
    "        X_train = pd.concat([X_train, pd.DataFrame(x_t)])\n",
    "        \n",
    "    X_val = pd.DataFrame()\n",
    "    for t in np.arange(df.shape[1]-T-n_val, df.shape[1]-T):\n",
    "        x_v = df.iloc[:, t:t+T].values\n",
    "        X_val = pd.concat([X_val, pd.DataFrame(x_v)])\n",
    "        \n",
    "    y_train = df.iloc[:, T:df.shape[1]-n_val].to_numpy().T.flatten()\n",
    "    y_val = df.iloc[:, df.shape[1]-n_val:].to_numpy().T.flatten()\n",
    "    \n",
    "    return X_train.to_numpy(), y_train, X_val.to_numpy(), y_val\n",
    "\n",
    "def remove_nans(X: np.array, y: np.array):\n",
    "    '''Remove all nans from the provided (X, y) pair.\n",
    "    \n",
    "    :param X: (n, T) array of model inputs\n",
    "    :param y: (n,) array of labels\n",
    "    :return:  (X, y)\n",
    "    '''\n",
    "    if not len(X):\n",
    "        return X,y\n",
    "    df = pd.DataFrame(X)\n",
    "    df['y'] = y\n",
    "    df = df.dropna()\n",
    "    return df.iloc[:, :X.shape[1]].to_numpy(), df.iloc[:, X.shape[1]].to_numpy()\n",
    "\n",
    "def time_series_to_dataset(time_series: pd.DataFrame, T: int, n_val: int):\n",
    "    '''Convert 'time series' dataframe to a numpy dataset.\n",
    "    \n",
    "    Uses utilites above 'time_series_to_numpy' and 'remove_nans'\n",
    "    \n",
    "    For description of arguments, see 'time_series_to_numpy' docstring.\n",
    "    '''\n",
    "    answer = time_series_to_numpy(time_series, T, n_val)\n",
    "    train = remove_nans(answer[0], answer[1])\n",
    "    val = remove_nans(answer[2], answer[3])\n",
    "    return train[0], train[1], val[0], val[1]"
   ]
  },
  {
   "cell_type": "markdown",
   "id": "3338493c-08cb-4f7f-a98a-a60b593be276",
   "metadata": {},
   "source": [
    "### Train and Evaluate a Linear Model on Pre-Lockdown Data\n",
    "Train a linear model that forecasts the next day's speed average using training dataset, X_train and y_train. Predict $y_{(i,t)}$ from $X_{(i,t)}$, where\n",
    "- $y_{(i,t)}$: daily speed average for day $t$ and census tract $i$\n",
    "- $X_{(i,t)}$: vector of daily speed averages for days $t-5,t-4,t-3,t-2,t-1$ for census tract $i$\n",
    "\n",
    "Evaluate model on validation dataset X_val and y_val"
   ]
  },
  {
   "cell_type": "code",
   "execution_count": null,
   "id": "5be823d2",
   "metadata": {},
   "outputs": [],
   "source": [
    "time_series = dataframe_to_time_series(speed_tract)\n",
    "time_series_pre = time_series.iloc[:, list(range(13))]\n",
    "X_train, y_train, X_val, y_val = time_series_to_dataset(time_series_pre, 5, 2)\n",
    "# X_train.shape, y_train.shape, X_val.shape, y_val.shape\n",
    "# time_series.head(2)\n",
    "# time_series_pre.head(2)\n",
    "\n",
    "reg = LinearRegression().fit(X_train, y_train) # set to trained linear model\n",
    "score = reg.score(X_val, y_val) # report r^2 score\n",
    "print('Score:', score)\n",
    "\n",
    "# Plot Scatter: predicted averages against ground truth averages\n",
    "sns.regplot(x=reg.predict(X_val), y=y_val, scatter_kws={'s':10});\n",
    "plt.title('Predicted vs Actual Speed Averages');\n",
    "plt.xlabel('Predicted speed Averages');\n",
    "plt.ylabel('Actual speed Averages');"
   ]
  },
  {
   "cell_type": "markdown",
   "id": "53bfd2af",
   "metadata": {},
   "source": [
    "## Understand Failures on Post-Lockdown Data\n",
    "\n",
    "Visualize model errors or performances are spatially and temporally."
   ]
  },
  {
   "cell_type": "markdown",
   "id": "9f74c58c-188d-4a5e-a7e8-51e2f1900eba",
   "metadata": {},
   "source": [
    "### Evaluate on Post-Lockdown Data\n",
    "\n",
    "Evaluate post-lockdown data for all census tracts using reg from previously"
   ]
  },
  {
   "cell_type": "code",
   "execution_count": null,
   "id": "35c3e6af-6b42-4e7a-be9e-0cc5d7a52714",
   "metadata": {},
   "outputs": [],
   "source": [
    "# get 'time series' dataframe for days 9, 10, 11, 12, 13\n",
    "# get 'time series' dataframe for 14th\n",
    "time_series_x_pre, time_series_y_post, X_val_post, y_val_post = time_series_to_dataset(time_series.iloc[:, 8:14], 5, 0)\n",
    "score_pre_14th = reg.score(time_series_x_pre, time_series_y_post)\n",
    "print('Score:', score_pre_14th)\n",
    "#Plot Scatter: predicted averages against ground truth averages\n",
    "sns.regplot(x=reg.predict(time_series_x_pre), y=time_series_y_post, scatter_kws={'s':10});\n",
    "plt.title('Predicted vs Actual Speed Averages (March 14, 2020)');\n",
    "plt.xlabel('Predicted speed Averages');\n",
    "plt.ylabel('Actual speed Averages');"
   ]
  },
  {
   "cell_type": "markdown",
   "id": "fae80544",
   "metadata": {},
   "source": [
    "### Report Model Performance Temporally\n",
    "From the line graph below, the lowest point was on March 17th with a model performance of 0.7248. According to the [Covid timeline in the Bay Area](https://abc7news.com/timeline-of-coronavirus-us-covid-19-bay-area-sf/6047519/), shelter in place was enacted on the 17th, severely restricting travel, so speed data from the days prior wouldn't be able to predict this external policy. Model performances began to worsen on the 15th when Newsom ordered elderlies to stay home and reduce restaurant capacity. This would again affect traffic beyond what just looking at previous days' speeds could predict. The dip in performance on March 8th is foreshadowed in the speeds_daily plot where there is a sudden spike in average speed, which probably caused the model accuracy to decrease. The model miraculously recovers possibly because of the sudden increase in average speed on the 8th declining back to its 'normal' state. Without the spike, there seems to be a gradual increase in traffic speed between the 5th and the 10th."
   ]
  },
  {
   "cell_type": "code",
   "execution_count": null,
   "id": "4e19a9db",
   "metadata": {
    "scrolled": true
   },
   "outputs": [],
   "source": [
    "scores = []\n",
    "for i in np.arange(5, 31):\n",
    "    prev_five = time_series.iloc[:, i-5:i+1].dropna()\n",
    "    x_pre_mar = prev_five.iloc[:, :5] \n",
    "    y_post_mar = prev_five.iloc[:, 5]\n",
    "    scr = reg.score(x_pre_mar, y_post_mar)\n",
    "    scores += [scr]\n",
    "\n",
    "# Plot Line: performance of the original model throughout all of March 2020.\n",
    "plt.plot(np.arange(6, 32), scores)\n",
    "plt.title('Model Performance Throughout March 2020');\n",
    "plt.xlabel('Day of Month');\n",
    "plt.ylabel('Score');"
   ]
  },
  {
   "cell_type": "code",
   "execution_count": null,
   "id": "c2cd380a",
   "metadata": {},
   "outputs": [],
   "source": [
    "time_series_x_pre_17 = time_series_to_dataset(time_series.iloc[:, 11:17], 5, 0)[0]\n",
    "time_series_y_post_17 = time_series_to_dataset(time_series.iloc[:, 11:17], 5, 0)[1]\n",
    "score_17 = reg.score(time_series_x_pre_17, time_series_y_post_17)\n",
    "print('Score:', score_17) # not high\n",
    "\n",
    "# Plot Scatter: predicted averages against ground truth averages for model predictions on March 17th\n",
    "sns.regplot(x=reg.predict(time_series_x_pre_17), y=time_series_y_post_17, scatter_kws={'s':10});\n",
    "plt.title('Predicted vs Actual Speed Averages (March 17, 2020)');\n",
    "plt.xlabel('Predicted Speed Averages');\n",
    "plt.ylabel('Actual Speed Averages');"
   ]
  },
  {
   "cell_type": "markdown",
   "id": "22ad11a5",
   "metadata": {},
   "source": [
    "## ‘Fix’ Model on Post-Lockdown Data"
   ]
  },
  {
   "cell_type": "markdown",
   "id": "a5dafac4",
   "metadata": {},
   "source": [
    "### Learn Delta Off of a Moving Bias\n",
    "\n",
    "Since the average speed, shown in the EDA, increases sharply, we learn delta around the average and naively assume that the average of day $t$ is the average for day $t+1$.\n",
    "\n",
    "The delta model is much more effective for the 17th compared to the previous one. By predicting changes in velocity after subtracting the daily average speeds, we avoid including the drastic speed change when lockdown restrictions were imposed that paralyzed the dataset's ability to predict speed based on previous days for the period when restrictions were first enforced (15-17th, etc.). By subtracting daily average speeds, we normalize the data so that pre and post-lockdown speed deltas are more consistent with one another, making the model more effective even when the drastic change in average speed occurs."
   ]
  },
  {
   "cell_type": "code",
   "execution_count": null,
   "id": "83c0171d",
   "metadata": {
    "scrolled": true
   },
   "outputs": [],
   "source": [
    "time_series_delta = time_series_pre - np.array(speeds_daily.iloc[:13]) # subtract daily average from pre-lockdown 'time series' dataframe 'time_series_pre'\n",
    "time_series_delta.head(2)"
   ]
  },
  {
   "cell_type": "code",
   "execution_count": null,
   "id": "eda7cf5a",
   "metadata": {},
   "outputs": [],
   "source": [
    "# Evaluate model on pre-lockdown data\n",
    "X_delta_train, y_delta_train, X_delta_val, y_delta_val = time_series_to_dataset(time_series_delta, 5, 2)\n",
    "reg_delta = LinearRegression().fit(X_delta_train, y_delta_train)\n",
    "res = reg_delta.score(X_delta_val, y_delta_val)\n",
    "print('Score:', res)\n",
    "\n",
    "# Plot Scatter: \n",
    "sns.regplot(x=reg.predict(X_delta_val), y=y_delta_val, scatter_kws={'s':10});\n",
    "plt.title('Predicted vs Actual Delta Speed Averages');\n",
    "plt.xlabel('Predicted Speed Averages');\n",
    "plt.ylabel('Actual Speed Averages');"
   ]
  },
  {
   "cell_type": "code",
   "execution_count": null,
   "id": "d00733a4",
   "metadata": {},
   "outputs": [],
   "source": [
    "# Evaluate model on the 17th\n",
    "X_delta_train, y_delta_train, X_delta_val, y_delta_val = time_series_to_dataset((time_series - np.array(speeds_daily)).iloc[:, 11:17], 5, 0)\n",
    "res = reg_delta.score(X_delta_train, y_delta_train)\n",
    "print('Score:', res)\n",
    "\n",
    "# Plot Scatter: \n",
    "sns.regplot(x=reg.predict(X_delta_train), y=y_delta_train, scatter_kws={'s':10});\n",
    "plt.title('Predicted vs Actual Delta Speed Averages (March 17, 2020)');\n",
    "plt.xlabel('Predicted Speed Averages');\n",
    "plt.ylabel('Actual Speed Averages');"
   ]
  },
  {
   "cell_type": "markdown",
   "id": "437a02d9-de8f-4e2a-922e-9d6b3f36d4f0",
   "metadata": {},
   "source": [
    "### Does the Pre-Lockdown Model Predict After the Change Point?\n",
    "\n",
    "The temporal plot above showing performance over time suggests a partial recovery. To see, evaluate the original, naive model on all post-lockdown data. "
   ]
  },
  {
   "cell_type": "code",
   "execution_count": null,
   "id": "f8f33751",
   "metadata": {},
   "outputs": [],
   "source": [
    "X_train_og, y_train_og, X_val_og, y_val_og = time_series_to_dataset(time_series.iloc[:, 13:], 5, 0)\n",
    "score_og_post = reg.score(X_train_og, y_train_og)\n",
    "print('Score:', score_og_post)\n",
    "\n",
    "# Plot Scatter: \n",
    "sns.regplot(x=reg.predict(X_train_og), y=y_train_og, scatter_kws={'s':10});\n",
    "plt.title('Predicted vs Actual Speed Averages');\n",
    "plt.xlabel('Predicted Speed Averages');\n",
    "plt.ylabel('Actual Speed Averages');"
   ]
  },
  {
   "cell_type": "markdown",
   "id": "3da64ba9-6f39-4d2e-9683-83abf6aefa71",
   "metadata": {},
   "source": [
    "### Naively Retrain Model With Post-Lockdown Data\n",
    "\n",
    "Train a linear model and evaluate on post-lockdown data"
   ]
  },
  {
   "cell_type": "code",
   "execution_count": null,
   "id": "be00ebaf",
   "metadata": {
    "scrolled": false
   },
   "outputs": [],
   "source": [
    "X_train, y_train, X_val, y_val = time_series_to_dataset(time_series.iloc[:, 13:], 5, 2)\n",
    "reg = LinearRegression().fit(X_train, y_train)\n",
    "score_post = reg.score(X_val, y_val)\n",
    "print('Score:', score_post)\n",
    "\n",
    "# Plot Scatter: \n",
    "sns.regplot(x=reg.predict(X_val), y=y_val, scatter_kws={'s':10});\n",
    "plt.title('Predicted vs Actual Speed Averages');\n",
    "plt.xlabel('Predicted Speed Averages');\n",
    "plt.ylabel('Actual Speed Averages');"
   ]
  },
  {
   "cell_type": "markdown",
   "id": "71b9f106-6194-43dc-9c8c-d0d5f6bd7875",
   "metadata": {},
   "source": [
    "### Ignoring the Change Point\n",
    "\n",
    "The lower $r^2$ score is the outcome of training on both before and after the change point."
   ]
  },
  {
   "cell_type": "code",
   "execution_count": null,
   "id": "42833f28",
   "metadata": {},
   "outputs": [],
   "source": [
    "X_train, y_train, X_val, y_val = time_series_to_dataset(time_series, 5, 5)\n",
    "reg = LinearRegression().fit(X_train, y_train)\n",
    "res = reg.score(X_val, y_val)\n",
    "print('Score:', res)\n",
    "\n",
    "# Plot Scatter: \n",
    "sns.regplot(x=reg.predict(X_train), y=y_train, scatter_kws={'s':10});\n",
    "plt.title('Predicted vs Actual Speed Averages');\n",
    "plt.xlabel('Predicted Speed Averages');\n",
    "plt.ylabel('Actual Speed Averages');"
   ]
  }
 ],
 "metadata": {
  "kernelspec": {
   "display_name": "Python 3 (ipykernel)",
   "language": "python",
   "name": "python3"
  },
  "language_info": {
   "codemirror_mode": {
    "name": "ipython",
    "version": 3
   },
   "file_extension": ".py",
   "mimetype": "text/x-python",
   "name": "python",
   "nbconvert_exporter": "python",
   "pygments_lexer": "ipython3",
   "version": "3.9.15"
  }
 },
 "nbformat": 4,
 "nbformat_minor": 5
}
