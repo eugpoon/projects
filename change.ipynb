{
 "cells": [
  {
   "cell_type": "markdown",
   "id": "1d2e13e5",
   "metadata": {},
   "source": [
    "# WiDS Datathon 2023\n",
    "\n",
    "[changeFunc.py](https://github.com/eugpoon/projects/tree/master/changeFunc.py)\n",
    "\n",
    "#### Dependent Variable\n",
    "<details>\n",
    "    <summary> (click to expand)</summary>\n",
    "\n",
    "- **contest-tmp2m-14d__tmp2m**: the arithmetic mean of the max and min observed temperature over the next 14 days for each location and start date, computed as (measured max temperature + measured mini temperature) / 2\n",
    "\n",
    "</details>\n",
    "\n",
    "\n",
    "#### Independent Variables\n",
    "<details>\n",
    "    <summary> (click to expand)</summary>\n",
    "\n",
    "- **contest-slp-14d**: file containing sea level pressure (slp)\n",
    "- **nmme0-tmp2m-34w**: file containing most recent monthly NMME model forecasts for tmp2m (**cancm30, cancm40, ccsm30, ccsm40, cfsv20, gfdlflora0, gfdlflorb0, gfdl0, nasa0, nmme0mean**) and average forecast across those models (nmme0mean)\n",
    "- **contest-pres-sfc-gauss-14d**: pressure\n",
    "- **mjo1d**: MJO phase and amplitude\n",
    "- **contest-pevpr-sfc-gauss-14d**: potential evaporation\n",
    "- **contest-wind-h850-14d**: geopotential height at 850 millibars\n",
    "- **contest-wind-h500-14d**: geopotential height at 500 millibars\n",
    "- **contest-wind-h100-14d**: geopotential height at 100 millibars\n",
    "- **contest-wind-h10-14d**: geopotential height at 10 millibars\n",
    "- **contest-wind-vwnd-925-14d**: longitudinal wind at 925 millibars\n",
    "- **contest-wind-vwnd-250-14d**: longitudinal wind at 250 millibars\n",
    "- **contest-wind-uwnd-250-14d**: zonal wind at 250 millibars\n",
    "- **contest-wind-uwnd-925-14d**: zonal wind at 925 millibars\n",
    "- **contest-rhum-sig995-14d**: relative humidity\n",
    "- **contest-prwtr-eatm-14d**: precipitable water for entire atmosphere\n",
    "- **nmme-prate-34w**: weeks 3-4 weighted average of monthly NMME model forecasts for precipitation\n",
    "- **nmme-prate-56w**: weeks 5-6 weighted average of monthly NMME model forecasts for precipitation\n",
    "- **nmme0-prate-56w**: weeks 5-6 weighted average of most recent monthly NMME model forecasts for precipitation\n",
    "- **nmme0-prate-34w**: weeks 3-4 weighted average of most recent monthly NMME model forecasts for precipitation\n",
    "- **nmme-tmp2m-34w**: weeks 3-4 weighted average of most recent monthly NMME model forecasts for target label, contest-tmp2m-14d__tmp2m\n",
    "- **nmme-tmp2m-56w**: weeks 5-6 weighted average of monthly NMME model forecasts for target label, contest-tmp2m-14d__tmp2m\n",
    "- **mei**: MEI (mei), MEI rank (rank), and Niño Index Phase (nip)\n",
    "- **elevation**: elevation\n",
    "- **contest-precip-14d**: measured precipitation\n",
    "- **climateregions**: Köppen-Geigerclimateclassifications, string\n",
    "\n",
    "\n",
    "- **lat**: latitude of location (anonymized)\n",
    "- **lon**: longitude of location (anonymized)\n",
    "- **startdate**: startdate of the 14 day period\n",
    "- **sst**: sea surface temperature\n",
    "- **icec**: sea ice concentration\n",
    "- **cancm30, cancm40, ccsm30, ccsm40, cfsv20, gfdlflora0, gfdlflorb0, gfdl0, nasa0, nmme0mean**: most recent forecasts from weather models\n",
    "\n",
    "</details>"
   ]
  },
  {
   "cell_type": "code",
   "execution_count": null,
   "id": "cf3824e2",
   "metadata": {
    "lines_to_next_cell": 2
   },
   "outputs": [],
   "source": [
    "%matplotlib inline\n",
    "import os\n",
    "import random\n",
    "import warnings\n",
    "from zipfile import ZipFile\n",
    "\n",
    "import numpy as np\n",
    "import pandas as pd\n",
    "import seaborn as sns\n",
    "from IPython.display import HTML, Javascript, display\n",
    "from catboost import CatBoostRegressor\n",
    "from fastai.tabular.core import df_shrink\n",
    "from lightgbm import LGBMRegressor\n",
    "from matplotlib import pyplot as plt\n",
    "from sklearn.ensemble import StackingRegressor\n",
    "from sklearn.linear_model import ElasticNet, Lasso, Ridge\n",
    "from sklearn.model_selection import train_test_split\n",
    "from sklearn.preprocessing import MinMaxScaler, StandardScaler\n",
    "from xgboost import XGBRegressor\n",
    "\n",
    "from changeFunc import (\n",
    "    downloadData,\n",
    "    corr,\n",
    "    drop_outliers,\n",
    "    feature_engineering,\n",
    "    transform,\n",
    ")\n",
    "\n",
    "\n",
    "plt.rcParams['figure.figsize'] = (6, 4)\n",
    "plt.rcParams['figure.dpi'] = 400\n",
    "plt.rcParams['font.size'] = 5\n",
    "plt.rcParams['figure.titlesize'] = 10\n",
    "plt.rcParams['axes.linewidth'] = 0.1\n",
    "plt.rcParams['patch.linewidth'] = 0\n",
    "\n",
    "display(HTML(\"<style>.container { width:100% !important; }</style>\"))\n",
    "random.seed(100)\n",
    "warnings.filterwarnings('ignore')"
   ]
  },
  {
   "cell_type": "markdown",
   "id": "7b21284e",
   "metadata": {},
   "source": [
    "### Load and Clean Data"
   ]
  },
  {
   "cell_type": "code",
   "execution_count": null,
   "id": "87a81915",
   "metadata": {},
   "outputs": [],
   "source": [
    "if os.path.isfile('data/widsdatathon2023pkl.zip') == False:\n",
    "    !kaggle competitions download -c widsdatathon2023\n",
    "    downloadData()\n",
    "    !rm widsdatathon2023.zip *.pkl\n",
    "\n",
    "z = ZipFile('data/widsdatathon2023pkl.zip')\n",
    "train = df_shrink(pd.read_pickle(z.open('train_data.pkl')))\n",
    "test = df_shrink(pd.read_pickle(z.open('test_data.pkl')))\n",
    "submit = df_shrink(pd.read_pickle(z.open('sample_solution.pkl')))\n",
    "target = 'contest-tmp2m-14d__tmp2m'\n",
    "print(f'{train.isna().any().sum()} cols with null: \\\n",
    "        {train.columns[train.isna().any()].tolist()}')\n",
    "print(f'cat vars: {list(train.select_dtypes(exclude=np.number).columns)}')"
   ]
  },
  {
   "cell_type": "markdown",
   "id": "c72ef3f7",
   "metadata": {},
   "source": [
    "### Feature Engineering and Exploratory Data Analysis"
   ]
  },
  {
   "cell_type": "code",
   "execution_count": null,
   "id": "60728b2b",
   "metadata": {},
   "outputs": [],
   "source": [
    "X, y, X_test, y_test = feature_engineering(train.copy(), test.copy())\n",
    "\n",
    "X_train, X_val, y_train, y_val = train_test_split(X, y, test_size=0.3,\n",
    "                                                  random_state=100)\n",
    "print(f'train: {X_train.shape} | val: {X_val.shape} | test: {X_test.shape}')"
   ]
  },
  {
   "cell_type": "code",
   "execution_count": null,
   "id": "cae123ba",
   "metadata": {},
   "outputs": [],
   "source": [
    "# w34 = list(X.columns[X.columns.str.contains('34w')])\n",
    "# w56 = list(X.columns[X.columns.str.contains('56w')])\n",
    "d14 = list(X.columns[X.columns.str.contains('14d')])\n",
    "# non = list(X.columns[~X.columns.str.contains('_')])\n",
    "# oth = list(X.columns.difference(w34+w56+d14+non))\n",
    "tmp2m = list(X.columns[X.columns.str.contains('tmp2m')])\n",
    "useful = tmp2m + d14"
   ]
  },
  {
   "cell_type": "markdown",
   "id": "0537bca2",
   "metadata": {},
   "source": [
    "- All subsets of variables plotted as time series\n",
    "- Only nmme-tmp2m-34w__ccsm3 and nmme-tmp2m-56w__ccsm3 contained dramatic dips"
   ]
  },
  {
   "cell_type": "code",
   "execution_count": null,
   "id": "7a2d0690",
   "metadata": {},
   "outputs": [],
   "source": [
    "aa = X.groupby('startdate')[tmp2m].mean()\n",
    "bb = aa.diff()  # .reset_index()\n",
    "cc = np.sqrt(bb.min()**2 + bb.max()**2).sort_values().tail()\n",
    "err = list(np.sort(cc.index[-2:]))\n",
    "display(cc)\n",
    "\n",
    "fig, axs = plt.subplots(ncols=2, figsize=(15, 7))\n",
    "\n",
    "sns.lineplot(data=pd.melt(aa, ignore_index=False).reset_index(), alpha=0.5,\n",
    "             x='startdate', y='value', hue='variable', ax=axs[0], legend=False)\n",
    "\n",
    "sns.lineplot(data=pd.melt(aa[err], ignore_index=False).reset_index(),\n",
    "             x='startdate', y='value', hue='variable', ax=axs[1])\n",
    "plt.show()"
   ]
  },
  {
   "cell_type": "markdown",
   "id": "ec5adecb",
   "metadata": {},
   "source": [
    "- Assume dips resulted from errored forecasts in NNME model\n",
    "- Replace any values in dips with max of 2 days before and after"
   ]
  },
  {
   "cell_type": "code",
   "execution_count": null,
   "id": "f70ddbbe",
   "metadata": {},
   "outputs": [],
   "source": [
    "X, y, X_test, y_test = feature_engineering(train.copy(), test.copy())\n",
    "X_err = X[err+['startdate', 'coor']].copy()\n",
    "off = 2\n",
    "\n",
    "for c in X.coor.unique():\n",
    "    #     print(c, end=' ')\n",
    "    df = X[X.coor == c]\n",
    "    for e in [0, 1]:\n",
    "        temp = df[[err[e]]].diff(1).fillna(method='bfill')\n",
    "        ind = list(temp.index.difference(drop_outliers(temp, thres=4).index))\n",
    "        ind1, ind2 = ind[:-1], ind[1:]\n",
    "        for i in range(len(ind1)):\n",
    "            if np.abs(ind1[i]-ind2[i]) > 20:\n",
    "                continue\n",
    "            t = X_err.loc[ind1[i]-off:ind2[i]+(off-1)]\n",
    "            val = t.iloc[np.r_[0:off, -off:0]][err[e]].max()\n",
    "            X_err.loc[ind1[i]:ind2[i]-1, err[e]] = val\n",
    "\n",
    "fig, axs = plt.subplots(ncols=2, figsize=(15, 7))\n",
    "for i in [0, 1]:\n",
    "    sns.lineplot(X_err.groupby('startdate')[err[i]].mean(),\n",
    "                 dashes=[True], alpha=0.7, label='new', ax=axs[i])\n",
    "    sns.lineplot(X.groupby('startdate')[err[i]].mean(),  # marker='o',\n",
    "                 alpha=0.5, label='original', ax=axs[i])\n",
    "    axs[i].set(title=err[i])\n",
    "\n",
    "X[err] = X_err[err]"
   ]
  },
  {
   "cell_type": "markdown",
   "id": "563499f7",
   "metadata": {},
   "source": [
    "### Modeling: ElasticNet\n",
    "Train on each coordinate separately"
   ]
  },
  {
   "cell_type": "code",
   "execution_count": null,
   "id": "6990a2c8",
   "metadata": {},
   "outputs": [],
   "source": [
    "def modelEL(alpha, l1_ratio, X, X_test, y, change=False):\n",
    "    res = y[X.index].copy()\n",
    "    preds = y_test.copy()\n",
    "\n",
    "    for i in X.coor.unique():\n",
    "        xTT, xtt = X[X.coor == i][useful], X_test[X_test.coor == i][useful]\n",
    "        yTT = y[xTT.index]\n",
    "        # scale\n",
    "        if change == True:\n",
    "            xTT, xtt = transform(xTT, xtt, MinMaxScaler((1, 10)))\n",
    "            cols = [c + '_change' for c in useful]\n",
    "            xTT[cols] = (xTT.pct_change().replace(0, np.nan)\n",
    "                         .fillna(method='bfill').fillna(method='ffill'))\n",
    "            xtt[cols] = (xtt.pct_change().replace(0, np.nan)\n",
    "                         .fillna(method='bfill').fillna(method='ffill'))\n",
    "        else:\n",
    "            xTT, xtt = transform(xTT, xtt, StandardScaler())\n",
    "\n",
    "        # model\n",
    "        el = ElasticNet(alpha=alpha, l1_ratio=l1_ratio,\n",
    "                        max_iter=10000, random_state=100).fit(xTT, yTT)\n",
    "        preds[xtt.index] = el.predict(xtt)\n",
    "        res[xTT.index] = yTT - el.predict(xTT).flatten()  # train residuals\n",
    "    return res, preds"
   ]
  },
  {
   "cell_type": "markdown",
   "id": "53639557",
   "metadata": {},
   "source": [
    "#### Variables used: **tmp2m group, 14d group**"
   ]
  },
  {
   "cell_type": "code",
   "execution_count": null,
   "id": "64c483a6",
   "metadata": {
    "lines_to_next_cell": 2
   },
   "outputs": [],
   "source": [
    "%%time\n",
    "X1 = X.groupby('coor')[useful].apply(drop_outliers).reset_index(level='coor')\n",
    "\n",
    "# alpha = [0.01, 0.1, 1]\n",
    "# ratios = np.round(np.arange(0.2, 0.9, 0.1), 1)\n",
    "# comp1 = pd.DataFrame(columns=['alpha', 'ratio', 'rmse'])\n",
    "\n",
    "# for a, r in product(alpha, ratios):\n",
    "#     res, preds = modelEL(a, r, X1, X_test, y, False)\n",
    "#     comp1.loc[len(comp1.index)] = [a, r, np.sqrt(np.mean(res**2))]\n",
    "\n",
    "# el1 = comp1.sort_values('rmse').head().mean()\n",
    "el1 = pd.Series([0.01, 0.6, 0.574843], index=[\n",
    "                'alpha', 'ratio', 'rmse'])  # above results\n",
    "res1, pred1 = modelEL(el1.alpha, el1.ratio, X1, X_test, y, False)\n",
    "print(el1.alpha, el1.ratio)"
   ]
  },
  {
   "cell_type": "markdown",
   "id": "859242f9",
   "metadata": {},
   "source": [
    "#### Variables used: **tmp2m group, 14d group, percent change of tmp2m**"
   ]
  },
  {
   "cell_type": "code",
   "execution_count": null,
   "id": "081c09fa",
   "metadata": {},
   "outputs": [],
   "source": [
    "%%time\n",
    "# comp2 = pd.DataFrame(columns=['alpha', 'ratio', 'rmse'])\n",
    "\n",
    "# for a, r in product(alpha, ratios):\n",
    "#     res, preds = modelEL(a, r, X, X_test, y, True)\n",
    "#     comp2.loc[len(comp2.index)] = [a, r, np.sqrt(np.mean(res**2))]\n",
    "\n",
    "# el2 = comp2.sort_values('rmse').head().mean()\n",
    "el2 = pd.Series([0.01, 0.4, 0.471854], index=[\n",
    "                'alpha', 'ratio', 'rmse'])  # above results\n",
    "res2, pred2 = modelEL(el2.alpha, el2.ratio, X, X_test, y, True)\n",
    "print(el2.alpha, el2.ratio)"
   ]
  },
  {
   "cell_type": "markdown",
   "id": "390ef4d5",
   "metadata": {},
   "source": [
    "### Modeling: Stacking\n",
    "Train with unused columns from ElasticNet modeling"
   ]
  },
  {
   "cell_type": "code",
   "execution_count": null,
   "id": "d0ab2d95",
   "metadata": {},
   "outputs": [],
   "source": [
    "def modelStack(X, y):\n",
    "\n",
    "    estimators = [('rid', Ridge(alpha=0.6)),\n",
    "                  ('las', Lasso(alpha=0.01, random_state=100)),\n",
    "                  ('ela', ElasticNet(alpha=0.01, l1_ratio=0.6, random_state=100)),\n",
    "                  ('lgb', LGBMRegressor(objective='regression', metric='rmse',\n",
    "                                        verbose=-1, random_state=100)),\n",
    "                  ('xgb', XGBRegressor(objective='reg:squarederror', eval_metric='rmse',\n",
    "                                       random_state=100)),\n",
    "                  ('cat', CatBoostRegressor(\n",
    "                      loss_function='RMSE', verbose=0, random_seed=100))\n",
    "                  ]\n",
    "    reg = StackingRegressor(estimators=estimators,\n",
    "                            final_estimator=CatBoostRegressor(loss_function='RMSE',\n",
    "                                                              verbose=0, random_seed=100)\n",
    "                            ).fit(X, y[X.index])\n",
    "    return reg"
   ]
  },
  {
   "cell_type": "code",
   "execution_count": null,
   "id": "4dd4021c",
   "metadata": {},
   "outputs": [],
   "source": [
    "%%time\n",
    "drop = useful + corr(X.loc[X1.index].drop(columns=useful), 0.6)\n",
    "X2 = drop_outliers(X.loc[X1.index].drop(columns=drop))\n",
    "X2_test = X_test[X2.columns]\n",
    "X2, X2_test = transform(X2, X2_test)\n",
    "\n",
    "pred3 = modelStack(X2, y).predict(X2_test)"
   ]
  },
  {
   "cell_type": "markdown",
   "id": "f92cd505",
   "metadata": {},
   "source": [
    "### Submission"
   ]
  },
  {
   "cell_type": "code",
   "execution_count": null,
   "id": "1f9fc8c5",
   "metadata": {},
   "outputs": [],
   "source": [
    "submit[target] = pred1*.7 + pred2*.25 + pred3*.05\n",
    "display(submit)\n",
    "# submit.set_index('index').to_csv('s1.csv')"
   ]
  },
  {
   "cell_type": "code",
   "execution_count": null,
   "id": "89b7fedc",
   "metadata": {},
   "outputs": [],
   "source": [
    "# save notebook\n",
    "display(Javascript('IPython.notebook.save_checkpoint();'))\n",
    "# save notebook as html to eugpoon.github.io/projects\n",
    "!jupyter nbconvert change.ipynb --to html\n",
    "%mv \"change.html\" \"../eugpoon.github.io/projects/\"\n",
    "# restyle imports, clear output, replace file\n",
    "!cleanipynb change.ipynb\n",
    "# restart kernel\n",
    "display(HTML(\"<script>Jupyter.notebook.kernel.restart()</script>\"))"
   ]
  }
 ],
 "metadata": {
  "kernelspec": {
   "display_name": "Python 3 (ipykernel)",
   "language": "python",
   "name": "python3"
  }
 },
 "nbformat": 4,
 "nbformat_minor": 5
}
