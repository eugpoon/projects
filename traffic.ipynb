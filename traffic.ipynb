{
 "cells": [
  {
   "cell_type": "markdown",
   "id": "4e651bc8",
   "metadata": {},
   "source": [
    "# Traffic in a Post-Lockdown World\n",
    "\n",
    "This project is adapted from Data 100 Final Project, exploring the traffic data provided by the [Uber Movement](https://movement.uber.com/) dataset, specifically in March 2020 when the COVID shutdown began."
   ]
  },
  {
   "cell_type": "code",
   "execution_count": null,
   "id": "2192054a",
   "metadata": {
    "lines_to_end_of_cell_marker": 2
   },
   "outputs": [],
   "source": [
    "%matplotlib inline\n",
    "\n",
    "import gzip\n",
    "import re\n",
    "import urllib.request\n",
    "import warnings\n",
    "from typing import Callable\n",
    "from zipfile import ZipFile\n",
    "\n",
    "import geopandas as gpd\n",
    "import numpy as np\n",
    "import pandas as pd\n",
    "import seaborn as sns\n",
    "from IPython.display import HTML, Javascript, display\n",
    "from matplotlib import pyplot as plt\n",
    "\n",
    "from trafficFunc import plotChoro, plotDist, trainTS, performance, ts_to_ds\n",
    "\n",
    "\n",
    "warnings.filterwarnings('ignore')\n",
    "\n",
    "plt.rcParams['figure.figsize'] = (6, 4)\n",
    "plt.rcParams['figure.dpi'] = 300\n",
    "plt.rcParams['font.size'] = 8\n",
    "plt.rcParams['figure.titlesize'] = 10\n",
    "plt.rcParams['axes.linewidth'] = 0.1\n",
    "plt.rcParams['patch.linewidth'] = 0\n",
    "\n",
    "display(HTML(\"<style>.container { width:100% !important; }</style>\"))"
   ]
  },
  {
   "cell_type": "markdown",
   "id": "76f649e2",
   "metadata": {},
   "source": [
    "## Resources:\n",
    "\n",
    "-  [Uber Traffic Speeds](https://movement.uber.com/explore/san_francisco/speeds/query?dt[tpb]=ALL_DAY&dt[wd;]=1,2,3,4,5,6,7&dt[dr][sd]=2020-03-01&dt[dr][ed]=2020-03-31&ff=&lat.=37.7749295&lng.=-122.4370966&z.=13&lang=en-US)\n",
    "\n",
    "- [Census Tracts Geojson](https://movement.uber.com/explore/san_francisco/travel-times/query?si=1277&ti=&ag=censustracts&dt[tpb]=ALL_DAY&dt[wd;]=1,2,3,4,5,6,7&dt[dr][sd]=2020-03-01&dt[dr][ed]=2020-03-31&cd=&sa;=&sdn=&lat.=37.7749295&lng.=-122.4547777&z.=12&lang=en-US)\\\n",
    "Download Data -> Geo Boundaries\\\n",
    "IDs assigned according to the US 2010 Census; Uber Movement uses these IDs to identify regions of differing travel times\n",
    "\n",
    "- [Travel Times](https://movement.uber.com/explore/san_francisco/travel-times/query?si=1277&ti=&ag=censustracts&dt[tpb]=ALL_DAY&dt[wd;]=1,2,3,4,5,6,7&dt[dr][sd]=2020-03-01&dt[dr][ed]=2020-03-31&cd=&sa;=&sdn=&lang=en-US)\n",
    "\n",
    "- [OpenStreetMap XML gzip](https://download.bbbike.org/osm/bbbike/SanFrancisco/)\\\n",
    "IDs provided by [nodes](https://wiki.openstreetmap.org/wiki/Node)\n",
    " and [ways](https://wiki.openstreetmap.org/wiki/Way); Uber Movement uses these IDs to identify streets in the traffic speeds dataset\n",
    "\n",
    "- [Google Plus Codes](https://maps.google.com/pluscodes/) divide up the world uniformly into rectangular slices (spatial partitioning)\n",
    "\n",
    "- [traffic.py](https://github.com/eugpoon/projects/blob/master/trafficFunc.py)\n",
    "\n",
    "## Load and Clean Data"
   ]
  },
  {
   "cell_type": "code",
   "execution_count": null,
   "id": "0177c304",
   "metadata": {},
   "outputs": [],
   "source": [
    "# # redownload speed csv from link\n",
    "# speed = df_shrink(pd.read_csv('data/movement-speeds-hourly-san-francisco-2020-3.csv.zip', compression='zip'))\n",
    "# speed = speed[['day', 'osm_start_node_id', 'osm_end_node_id', 'speed_mph_mean']]\n",
    "# speed = speed.groupby(['day', 'osm_start_node_id',\n",
    "#                        'osm_end_node_id']).mean().reset_index()\n",
    "# speed.to_pickle('data/movement-speeds-daily-san-francisco-2020-3.pkl')\n",
    "# !rm \"data/movement-speeds-hourly-san-francisco-2020-3.csv.zip\"\n",
    "\n",
    "files = ZipFile('data/traffic.zip')\n",
    "print(np.sort(files.namelist()))"
   ]
  },
  {
   "cell_type": "code",
   "execution_count": null,
   "id": "88f973ac",
   "metadata": {},
   "outputs": [],
   "source": [
    "# daily traffic speed\n",
    "speed = pd.read_pickle(files.open(\n",
    "    'movement-speeds-daily-san-francisco-2020-3.pkl'))\n",
    "# census tracts\n",
    "bound = gpd.read_file(files.open('san_francisco_censustracts.json'))\n",
    "bound['MOVEMENT_ID'] = bound['MOVEMENT_ID'].astype(int)\n",
    "# daily travel time\n",
    "times = pd.read_csv(files.open('travel-times-daily-san-francisco-2020-3.csv'))\n",
    "times = (times[['Destination Movement ID', 'day',\n",
    "               'Mean Travel Time (Seconds)', 'Destination Display Name']]\n",
    "         .rename(columns={'Destination Movement ID': 'destID',\n",
    "                          'Mean Travel Time (Seconds)': 'time',\n",
    "                          'Destination Display Name': 'destName'})\n",
    "         )\n",
    "times['time'] = np.round(times['time']/60, 4)\n",
    "# OpenStreetMap XML\n",
    "\n",
    "\n",
    "def read_node_lat_lon(path: str, pattern: str, line_condition: Callable):\n",
    "    '''\n",
    "    Read the provided path line at a line. If the provided regex pattern\n",
    "    has a match, return the grouped matches as items in a generator.\n",
    "\n",
    "    :param path: Path to read data from\n",
    "    :param pattern: Regex pattern to test against each line\n",
    "    :param line_condition: function that returns if we should check regex\n",
    "        against current line\n",
    "    '''\n",
    "    with gzip.open(path) as f:\n",
    "        for line in f:\n",
    "            result = re.search(pattern, line.decode('utf-8'))\n",
    "            if result is not None and line_condition(result):\n",
    "                yield int(result.group(1)), float(result.group(2)), float(result.group(3))\n",
    "\n",
    "\n",
    "filename = 'https://download.bbbike.org/osm/bbbike/SanFrancisco/SanFrancisco.osm.gz'\n",
    "urllib.request.urlretrieve(filename, 'SanFrancisco.osm.gz')\n",
    "\n",
    "nodeID = set(speed.osm_start_node_id) | set(speed.osm_end_node_id)\n",
    "pattern = r\"id=\\\"(\\d+)\\\"\\s+lat=\\\"(\\-*\\d+\\.*\\d*)\\\"\\s+lon=\\\"(\\-*\\d+\\.*\\d*)\"\n",
    "\n",
    "node = pd.DataFrame(read_node_lat_lon('SanFrancisco.osm.gz',\n",
    "                                      pattern=pattern,\n",
    "                                      line_condition=lambda result: int(\n",
    "                                          result.group(1)) in nodeID\n",
    "                                      ), columns=['osm_node_id', 'Latitude', 'Longitude'])\n",
    "!rm SanFrancisco.osm.gz"
   ]
  },
  {
   "cell_type": "code",
   "execution_count": null,
   "id": "3c3ab630",
   "metadata": {},
   "outputs": [],
   "source": [
    "display(speed.head(2))\n",
    "display(bound.head(2))\n",
    "display(times.head(2))\n",
    "display(node.head(2))"
   ]
  },
  {
   "cell_type": "markdown",
   "id": "d5537737",
   "metadata": {},
   "source": [
    "## Exploratory Data Analysis\n",
    "### Traffic Speed\n",
    "\n",
    "Plus Code: differences between subpopulations (10.173) outweigh the differences within subpopulations (8.676), so plus codes may not be the most meaningful subdivider of populations as they don’t take into account demographic or traffic conditions (only uniform division by size)\n",
    "\n",
    "Census Tract: differences between (8.343) and within (8.316) subpopulations do not differ too much, census tracts are not a very effective way of creating meaningful spatial subpopulations."
   ]
  },
  {
   "cell_type": "code",
   "execution_count": null,
   "id": "a005a7b1",
   "metadata": {},
   "outputs": [],
   "source": [
    "# map speed to gps coordinates\n",
    "speedGPS = speed.merge(node, left_on='osm_start_node_id',\n",
    "                       right_on='osm_node_id')\n",
    "\n",
    "speedGPS = (gpd.GeoDataFrame(speedGPS,\n",
    "                             geometry=gpd.points_from_xy(speedGPS.Longitude, speedGPS.Latitude))\n",
    "            .set_crs('epsg:4326').sjoin(bound))\n",
    "\n",
    "# convert gps coordinates to plus code regions; assume regions are 0.012 degrees\n",
    "speedGPS['plus_lat'] = (speedGPS.Latitude // 0.012).astype(int)\n",
    "speedGPS['plus_lon'] = (speedGPS.Longitude // 0.012).astype(int)\n",
    "\n",
    "speedPC = speedGPS.groupby(['plus_lat', 'plus_lon'])\n",
    "print('Plus Code')\n",
    "print('# of regions: ', len(speedGPS.groupby(['plus_lat', 'plus_lon'])))\n",
    "print(\n",
    "    f\"Average of SD: {speedPC.std(numeric_only=True).speed_mph_mean.mean():.3f}\")\n",
    "print(\n",
    "    f\"SD of average: {speedPC.mean(numeric_only=True).speed_mph_mean.std():.3f}\\n\")\n",
    "# display(speedGPS.head(2))\n",
    "\n",
    "speedCT = speedGPS.groupby('MOVEMENT_ID')\n",
    "print('Census Tract')\n",
    "print('# of tracts:', len(speedGPS.groupby('MOVEMENT_ID')))\n",
    "print(\n",
    "    f\"Average of SD: {speedCT.std(numeric_only=True).speed_mph_mean.mean():.3f}\")\n",
    "print(\n",
    "    f\"SD of average: {speedCT.mean(numeric_only=True).speed_mph_mean.std():.3f}\")\n",
    "# display(speedGPS.head(2))"
   ]
  },
  {
   "cell_type": "code",
   "execution_count": null,
   "id": "93021cce",
   "metadata": {},
   "outputs": [],
   "source": [
    "sns.distplot(speedPC.std(numeric_only=True).speed_mph_mean, color='c',\n",
    "             hist_kws={'linewidth': 0, 'alpha': 0.4},\n",
    "             kde_kws={'color': 'blue'}, label='plus code')\n",
    "\n",
    "sns.distplot(speedCT.std(numeric_only=True).speed_mph_mean, color='pink',\n",
    "             hist_kws={'linewidth': 0, 'alpha': 0.4},\n",
    "             kde_kws={'color': 'red'}, label='census tract')\n",
    "\n",
    "plt.title('Traffic Speed SD Within-Cluster')\n",
    "plt.xlabel('Traffic Speed Standard Deviation (mph)')\n",
    "plt.legend()\n",
    "plt.show()"
   ]
  },
  {
   "cell_type": "markdown",
   "id": "953c3f36",
   "metadata": {},
   "source": [
    "#### Pre vs Post Lockdown\n",
    "\n",
    "Post lockdown average speeds skew higher. People can drive faster with fewer cars on the road as people stay home and have less reason to commute.\n",
    "\n",
    "##### Spatial Analysis\n",
    "\n",
    "**Pre-Lockdown:** slow within center of SF $\\rightarrow$ SF is densely populated and has narrow, complicated streets ans steep hills; faster as you move away from SF\n",
    "\n",
    "**Difference:** SF had little impact due to the unchangeable characteristics of the city; larger differnce away from SF"
   ]
  },
  {
   "cell_type": "code",
   "execution_count": null,
   "id": "5d947fb5",
   "metadata": {},
   "outputs": [],
   "source": [
    "# pre-lockdown:  March 1  - 13, 2020\n",
    "speedPRE = (speedGPS[speedGPS.day < 14]\n",
    "            .groupby('MOVEMENT_ID', as_index=False).mean(numeric_only=True)\n",
    "            .merge(bound)[['MOVEMENT_ID', 'geometry', 'speed_mph_mean']])\n",
    "# post-lockdown: March 14 - 31, 2020\n",
    "speedPOS = (speedGPS[speedGPS.day >= 14]\n",
    "            .groupby('MOVEMENT_ID', as_index=False).mean(numeric_only=True)\n",
    "            .merge(bound)[['MOVEMENT_ID', 'geometry', 'speed_mph_mean']])\n",
    "# difference\n",
    "pre_post = (speedPRE.merge(speedPOS, on='MOVEMENT_ID')\n",
    "            .rename(columns={'speed_mph_mean_x': 'speedPRE',\n",
    "                             'speed_mph_mean_y': 'speedPOS',\n",
    "                             'geometry_x': 'geometry'})\n",
    "            .drop(columns=['geometry_y']))\n",
    "pre_post['change'] = pre_post.speedPOS - pre_post.speedPRE\n",
    "pre_post = gpd.GeoDataFrame(pre_post).set_index('MOVEMENT_ID')\n",
    "\n",
    "del speedPRE, speedPOS\n",
    "\n",
    "plotDist(df=pre_post, col=['speedPRE', 'speedPOS'],\n",
    "         title='Average Traffic Speed By Census Tract',\n",
    "         x='Average Traffic Speed (mph)')\n",
    "\n",
    "plotChoro(df=pre_post, col=['speedPRE',\n",
    "          'speedPOS', 'change'], var='Speed (mph)')"
   ]
  },
  {
   "cell_type": "markdown",
   "id": "c9b644c8",
   "metadata": {},
   "source": [
    "<a id='speeds_daily'></a>\n",
    "#### Average Traffic Speed by Day\n",
    "\n",
    "Sharp increase between the 16th and 17th. After implementing shelter-in-place on the 16th, nearly 7 million residents had to restrict activities, leading to fewer people on the road (ABC news).  With fewer people, there was less traffic, and people could drive faster, which resulted in the jump in average speed."
   ]
  },
  {
   "cell_type": "code",
   "execution_count": null,
   "id": "27c2cf8d",
   "metadata": {},
   "outputs": [],
   "source": [
    "speeds_daily = speedGPS.groupby('day').mean(numeric_only=True).speed_mph_mean\n",
    "plt.plot(speeds_daily.index.values, speeds_daily)\n",
    "plt.title('Average Traffic Speed By Day')\n",
    "plt.xlabel('Day')\n",
    "plt.ylabel('Average Traffic Speed (mph)')\n",
    "plt.show()"
   ]
  },
  {
   "cell_type": "markdown",
   "id": "b0291ba7",
   "metadata": {},
   "source": [
    "#### Correlations\n",
    "The correlation for pre-lockdown and differences is lower than for post-lockdown, despite both being positive. The correlation for pre-lockdown is lower because more cars were on the road during that time, leading to higher differences from more variability between pre-lockdown speeds and differences. The correlation for post-lockdown is higher due to less traffic from fewer cars. Thus, there are fewer differences to calculate, and the variability between pre-lockdown speeds and differences is lower."
   ]
  },
  {
   "cell_type": "code",
   "execution_count": null,
   "id": "5135af91",
   "metadata": {},
   "outputs": [],
   "source": [
    "print('Average Speeds Correlation: Pre-Lockdown   vs Change:',\n",
    "      f'{np.corrcoef(pre_post.speedPRE, pre_post.change)[0][1]:.3f}')\n",
    "print('Average Speeds Correlation: Post-Lockdown  vs Change:',\n",
    "      f'{np.corrcoef(pre_post.speedPOS, pre_post.change)[0][1]:.3f}')"
   ]
  },
  {
   "cell_type": "markdown",
   "id": "2485c41c",
   "metadata": {},
   "source": [
    "### Travel Time\n",
    "\n",
    "- Starting address: 300 Hayes St, San Francisco, CA 94102\n",
    "- Multiple destinations\n",
    "\n",
    "#### Pre vs Post Lockdown\n",
    "\n",
    "Travel time distribution shifts to the left after lockdown. The difference distribution mostly falls below 0, indicating decreases in time per tract.\n",
    "\n",
    "##### Spatial Analysis\n",
    "\n",
    "**Pre-Lockdown:** time increases with distance from the origin\n",
    "\n",
    "**Difference:** time increased for some areas near, but generally decreased"
   ]
  },
  {
   "cell_type": "code",
   "execution_count": null,
   "id": "9cf94cec",
   "metadata": {},
   "outputs": [],
   "source": [
    "timePRE = times[times.day < 14].groupby(\n",
    "    'destID', as_index=False).mean(numeric_only=True)\n",
    "timePOS = times[times.day >= 14].groupby(\n",
    "    'destID', as_index=False).mean(numeric_only=True)\n",
    "\n",
    "pre_post_time = (timePRE.merge(timePOS, on='destID')\n",
    "                 .rename(columns={'time_x': 'timePRE', 'time_y': 'timePOS', })\n",
    "                 [['destID', 'timePRE', 'timePOS']]\n",
    "                 )\n",
    "pre_post_time['change'] = pre_post_time.timePOS - pre_post_time.timePRE\n",
    "pre_post_time = (gpd.GeoDataFrame(pre_post_time.merge(\n",
    "    bound, left_on='destID', right_on='MOVEMENT_ID'))\n",
    "    .set_index('destID'))\n",
    "# display(pre_post_time.describe().iloc[1:, :-1])\n",
    "\n",
    "del timePRE, timePOS\n",
    "\n",
    "plotDist(df=pre_post_time, col=['timePRE', 'timePOS'],\n",
    "         title='Average Travel Time By Census Tract',\n",
    "         x='Average Travel Time (minutes)')\n",
    "plotChoro(df=pre_post_time, col=['timePRE', 'timePOS', 'change'],\n",
    "          var='Time (minutes)')"
   ]
  },
  {
   "cell_type": "markdown",
   "id": "daf21606",
   "metadata": {},
   "source": [
    "#### Day of Week on Travel Time\n",
    "Travel time experienced more change on weekdays than on weekends, likely due to people working from home and no longer needing to drive to work. Weekend traffic is consistent throughout the day, so travel time did not change much."
   ]
  },
  {
   "cell_type": "code",
   "execution_count": null,
   "id": "0acedee1",
   "metadata": {},
   "outputs": [],
   "source": [
    "# Average Travel Time By Day of the Week\n",
    "days = ['sun', 'mon', 'tue', 'wed', 'thu', 'fri', 'sat']\n",
    "times['day_of_week'] = (times.day % 7).replace([1, 2, 3, 4, 5, 6, 0], days)\n",
    "\n",
    "# Difference by Day\n",
    "dayPRE = times[times['day'] < 14].groupby(\n",
    "    ['destID', 'day_of_week']).mean(numeric_only=True)\n",
    "dayPOS = times[times['day'] >= 14].groupby(\n",
    "    ['destID', 'day_of_week']).mean(numeric_only=True)\n",
    "pre_post_day = dayPRE.merge(dayPOS, left_index=True, right_index=True) \\\n",
    "    .rename(columns={'time_x': 'timePRE', 'time_y': 'timePOS'})\n",
    "pre_post_day['change'] = pre_post_day.timePOS - pre_post_day.timePRE\n",
    "pre_post_day['relChange'] = pre_post_day.change / pre_post_day.timePRE\n",
    "\n",
    "# Extract City Names\n",
    "# pre_post_day['city'] = pre_post_day['destName'].str.split(', ').str[-1]\n",
    "\n",
    "del dayPRE, dayPOS"
   ]
  },
  {
   "cell_type": "code",
   "execution_count": null,
   "id": "4d81a8a9",
   "metadata": {},
   "outputs": [],
   "source": [
    "by_day = (times.groupby(['destID', 'day_of_week'], as_index=False).mean(numeric_only=True)\n",
    "          .groupby('day_of_week').mean().reindex(days)[['time']])\n",
    "diff_day = pre_post_day.groupby('day_of_week').mean().reindex(days)\n",
    "\n",
    "fig, axs = plt.subplots(nrows=2, figsize=(10, 6), sharex=True, squeeze=True)\n",
    "sns.pointplot(data=by_day, x=by_day.index, y='time', ax=axs[0])\n",
    "sns.pointplot(data=diff_day, x=diff_day.index, y='change', ax=axs[1])\n",
    "\n",
    "axs[0].set(title='Average Travel Time By Day', xlabel='')\n",
    "axs[1].set(title='Average Travel Time Relative Change By Day', xlabel='Day')\n",
    "plt.show()\n",
    "\n",
    "del by_day, diff_day"
   ]
  },
  {
   "cell_type": "code",
   "execution_count": null,
   "id": "73ee52d7",
   "metadata": {},
   "outputs": [],
   "source": [
    "fig, axs = plt.subplots(ncols=2, figsize=(15, 7))\n",
    "sns.kdeplot(data=pre_post_day, hue='day_of_week',\n",
    "            hue_order=days, x='change', ax=axs[0])\n",
    "sns.kdeplot(data=pre_post_day, hue='day_of_week',\n",
    "            hue_order=days, x='relChange', ax=axs[1])\n",
    "\n",
    "axs[0].set(title='Average Travel Time Difference by Day of the Week', xlabel='')\n",
    "axs[1].set(title='Relative Travel Time Change by Day of the Week', xlabel='')\n",
    "plt.show()"
   ]
  },
  {
   "cell_type": "markdown",
   "id": "f49b386a",
   "metadata": {},
   "source": [
    "## Modeling\n",
    "\n",
    "### Model 1:\n",
    "\n",
    "- Linear regression: train on prelockdown\n",
    "- Independent: speeds on day x\n",
    "- Dependent: speeds before day x"
   ]
  },
  {
   "cell_type": "code",
   "execution_count": null,
   "id": "d6810c49",
   "metadata": {},
   "outputs": [],
   "source": [
    "ts = (speedGPS[['day', 'speed_mph_mean', 'MOVEMENT_ID']]\n",
    "      .groupby(['MOVEMENT_ID', 'day']).mean().unstack())\n",
    "display(ts.head(2))"
   ]
  },
  {
   "cell_type": "code",
   "execution_count": null,
   "id": "038bd4ac",
   "metadata": {},
   "outputs": [],
   "source": [
    "# train and evaluate using days within prelockdown\n",
    "# X_train (day 1-5), y_train (day 6), X_val (day 7-11), y_val (day 12-13)\n",
    "model1 = trainTS(ts_to_ds(ts.iloc[:, :13], 5, 2), plotV=True)\n",
    "\n",
    "# test on end of prelockdown\n",
    "# X_train (day 1-5), y_train (day 6), X_test (day 9-13), y_test (day 14)\n",
    "_ = trainTS(ts_to_ds(ts.iloc[:, 8:14], 5, 0), model=model1, plotT=True)"
   ]
  },
  {
   "cell_type": "markdown",
   "id": "fb055bf5",
   "metadata": {},
   "source": [
    "### Issues\n",
    "\n",
    "**Day 17 dip:** shelter in place was enacted on the 17th, severely restricting travel, so speed data from the days prior wouldn't be able to predict this external policy. ([Bay Area Covid timeline](https://abc7news.com/timeline-of-coronavirus-us-covid-19-bay-area-sf/6047519/))\n",
    "\n",
    "**Day 15 decline:** performances worsen on the 15th when Newsom ordered elderlies to stay home and reduce restaurant capacity. This would again affect traffic beyond  just looking at previous days' speeds could predict.\n",
    "\n",
    "**Day 8 dip:** foreshadowed in [speeds_daily plot](#speeds_daily)  where there is a sudden spike in average speed, which probably caused the model accuracy to decrease. The model recovers possibly because of the speed declining back to its 'normal' state. Without the spike, there seems to be a gradual increase in traffic speed between the 5th and the 10th."
   ]
  },
  {
   "cell_type": "code",
   "execution_count": null,
   "id": "3083a13d",
   "metadata": {},
   "outputs": [],
   "source": [
    "performance(model=model1, ts=ts, start=5)"
   ]
  },
  {
   "cell_type": "code",
   "execution_count": null,
   "id": "58195d0f",
   "metadata": {},
   "outputs": [],
   "source": [
    "# test on end of prelockdown with dip: bad score\n",
    "# X_train (day 1-5), y_train (day 6), X_test (day 12-16), y_test (day 17)\n",
    "_ = trainTS(ts_to_ds(ts.iloc[:, 11:17], 5, 0), model=model1, plotT=True)"
   ]
  },
  {
   "cell_type": "code",
   "execution_count": null,
   "id": "a2f2164d",
   "metadata": {},
   "outputs": [],
   "source": [
    "# test on postlockdown\n",
    "# X_train (day 1-5), y_train (day 6), X_test (day 14-18), y_test (day 19)\n",
    "_ = trainTS(ts_to_ds(ts.iloc[:, 13:], 5, 0), model=model1, plotT=True)"
   ]
  },
  {
   "cell_type": "markdown",
   "id": "cbb40db9",
   "metadata": {},
   "source": [
    "### Model 2:\n",
    "\n",
    "- Linear regression: train on prelockdown; centered days\n",
    "- Independent: speeds on day x\n",
    "- Dependent: speeds before day x\n",
    "\n",
    "Model 2 performed better than 1: predicting changes in velocity after centering the data accounts for the drastic speed increase that interfered with model 1; pre and post-lockdown speed deltas are more consistent with one another"
   ]
  },
  {
   "cell_type": "code",
   "execution_count": null,
   "id": "7e005464",
   "metadata": {},
   "outputs": [],
   "source": [
    "ts_delta = ts - np.array(speeds_daily)\n",
    "ts_delta.head(2)"
   ]
  },
  {
   "cell_type": "code",
   "execution_count": null,
   "id": "0a5a60a2",
   "metadata": {},
   "outputs": [],
   "source": [
    "# train and evaluate using days within prelockdown\n",
    "# X_train (day 1-5), y_train (day 6), X_val (day 7-11), y_val (day 12-13)\n",
    "model2 = trainTS(ts_to_ds(ts_delta.iloc[:, :13], 5, 2), plotV=True)\n",
    "\n",
    "# test on end of prelockdown with dip\n",
    "# X_train (day 1-5), y_train (day 6), X_test (day 12-16), y_test (day 17)\n",
    "_ = trainTS(ts_to_ds(ts_delta.iloc[:, 11:17], 5, 0), model=model2, plotT=True)\n",
    "\n",
    "performance(model=model2, ts=ts_delta, start=5)"
   ]
  },
  {
   "cell_type": "markdown",
   "id": "a413af3e",
   "metadata": {},
   "source": [
    "### Model 3:\n",
    "\n",
    "- Linear regression: train on postlockdown\n",
    "- Independent: speeds on day x\n",
    "- Dependent: speeds before day x"
   ]
  },
  {
   "cell_type": "code",
   "execution_count": null,
   "id": "03ff61dc",
   "metadata": {},
   "outputs": [],
   "source": [
    "# X_train (day 14-18), y_train (day 19), X_val (day 25-29), y_val (day 30)\n",
    "model3 = trainTS(ts_to_ds(ts.iloc[:, 13:], 5, 2), plotV=True)\n",
    "\n",
    "performance(model=model3, ts=ts, start=18)"
   ]
  },
  {
   "cell_type": "code",
   "execution_count": null,
   "id": "5f7f5ca9",
   "metadata": {},
   "outputs": [],
   "source": [
    "# save notebook\n",
    "display(Javascript('IPython.notebook.save_checkpoint();'))\n",
    "# save notebook as html to eugpoon.github.io/projects\n",
    "!jupyter nbconvert  traffic.ipynb --to html\n",
    "%mv \"traffic.html\" \"../eugpoon.github.io/projects/\"\n",
    "# restyle imports, clear output, replace file\n",
    "!cleanipynb traffic.ipynb\n",
    "# restart kernel\n",
    "display(HTML(\"<script>Jupyter.notebook.kernel.restart()</script>\"))"
   ]
  }
 ],
 "metadata": {
  "kernelspec": {
   "display_name": "Python 3 (ipykernel)",
   "language": "python",
   "name": "python3"
  }
 },
 "nbformat": 4,
 "nbformat_minor": 5
}
