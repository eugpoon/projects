{
 "cells": [
  {
   "cell_type": "markdown",
   "id": "ef1bd334",
   "metadata": {},
   "source": [
    "# World Happiness Report"
   ]
  },
  {
   "cell_type": "markdown",
   "id": "0898272e",
   "metadata": {},
   "source": [
    "The World Happiness Report is an annual landmark survey of the state of global happiness (155 countries). Governments, civil society, organizations, and policymakers use these reports to evaluate the progress and well-being of nations to explain variations in happiness.  The happiness scores, collected from the Gallup World Poll, follow a rating scale of 0 to 10, with 0 being the worst and 10 being the best possible life of the current lives of the respondents. We will explore whether the well-being of the countries – economy, family, health, freedom, trust of the government, and generosity – contributes to their state of happiness and how the scores would compare if they were in Dystopia, a hypothetical country with the world's lowest national averages."
   ]
  },
  {
   "cell_type": "code",
   "execution_count": null,
   "id": "b6b57ef9",
   "metadata": {},
   "outputs": [],
   "source": [
    "%matplotlib inline\n",
    "\n",
    "import warnings\n",
    "from zipfile import ZipFile\n",
    "\n",
    "import numpy as np\n",
    "import pandas as pd\n",
    "import seaborn as sns\n",
    "from IPython.display import HTML, Javascript, display\n",
    "from matplotlib import pyplot as plt\n",
    "from plotly import express as px, graph_objs as go, io as pio\n",
    "from plotly.offline import iplot\n",
    "from scipy import stats\n",
    "from scipy.spatial import distance\n",
    "from scipy.stats import chi2\n",
    "\n",
    "\n",
    "pio.renderers.default = 'notebook'\n",
    "\n",
    "warnings.filterwarnings('ignore')\n",
    "\n",
    "plt.rcParams['figure.figsize'] = (6, 4)\n",
    "plt.rcParams['figure.dpi'] = 300\n",
    "plt.rcParams['font.size'] = 8\n",
    "plt.rcParams['figure.titlesize'] = 10\n",
    "plt.rcParams['axes.linewidth'] = 0.1\n",
    "plt.rcParams['patch.linewidth'] = 0\n",
    "\n",
    "display(HTML(\"<style>.container { width:100% !important; }</style>\"))"
   ]
  },
  {
   "cell_type": "markdown",
   "id": "abb4bdd7",
   "metadata": {},
   "source": [
    "### Load and Clean Data"
   ]
  },
  {
   "cell_type": "code",
   "execution_count": null,
   "id": "a75f7a4a",
   "metadata": {},
   "outputs": [],
   "source": [
    "files = ZipFile('data/happy.zip')\n",
    "whr_2015, whr_2016, whr_2017, whr_2018, whr_2019 = \\\n",
    "    [pd.read_csv(files.open(f)) for f in np.sort(files.namelist())[:-5]]"
   ]
  },
  {
   "cell_type": "code",
   "execution_count": null,
   "id": "10f2ff2b",
   "metadata": {},
   "outputs": [],
   "source": [
    "# # print column names of each dataset\n",
    "# for df in [whr_2015, whr_2016, whr_2017, whr_2018, whr_2019]:\n",
    "#     print(np.array(df.columns))"
   ]
  },
  {
   "cell_type": "code",
   "execution_count": null,
   "id": "918f5b09",
   "metadata": {},
   "outputs": [],
   "source": [
    "# Make columns consistent across all datasets\n",
    "whr_2015['Year'] = '2015'\n",
    "whr_2016['Year'] = '2016'\n",
    "whr_2017['Year'] = '2017'\n",
    "whr_2018['Year'] = '2018'\n",
    "whr_2019['Year'] = '2019'\n",
    "\n",
    "whr_2015 = whr_2015.drop(columns=['Standard Error'])\n",
    "whr_2016 = whr_2016.drop(\n",
    "    columns=['Lower Confidence Interval', 'Upper Confidence Interval'])\n",
    "whr_2017 = whr_2017.rename(columns={'Happiness.Rank': 'Happiness Rank',\n",
    "                                    'Happiness.Score': 'Happiness Score',\n",
    "                                    'Economy..GDP.per.Capita.': 'Economy (GDP per Capita)',\n",
    "                                    'Health..Life.Expectancy.': 'Health (Life Expectancy)',\n",
    "                                    'Trust..Government.Corruption.': 'Trust (Government Corruption)',\n",
    "                                    'Dystopia.Residual': 'Dystopia Residual'}) \\\n",
    "    .drop(columns=['Whisker.high', 'Whisker.low'])\n",
    "whr_2018 = whr_2018.rename(columns={'Overall rank': 'Happiness Rank',\n",
    "                                    'Country or region': 'Country',\n",
    "                                    'Score': 'Happiness Score',\n",
    "                                    'GDP per capita': 'Economy (GDP per Capita)',\n",
    "                                    'Social support': 'Family',\n",
    "                                    'Healthy life expectancy': 'Health (Life Expectancy)',\n",
    "                                    'Freedom to make life choices': 'Freedom',\n",
    "                                    'Perceptions of corruption': 'Trust (Government Corruption)'})\n",
    "whr_2019 = whr_2019.rename(columns={'Overall rank': 'Happiness Rank',\n",
    "                                    'Country or region': 'Country',\n",
    "                                    'Score': 'Happiness Score',\n",
    "                                    'GDP per capita': 'Economy (GDP per Capita)',\n",
    "                                    'Social support': 'Family',\n",
    "                                    'Healthy life expectancy': 'Health (Life Expectancy)',\n",
    "                                    'Freedom to make life choices': 'Freedom',\n",
    "                                    'Perceptions of corruption': 'Trust (Government Corruption)'})\n",
    "\n",
    "# Create one dataframe that contains all of 2015-2019 data\n",
    "happy = pd.concat([whr_2015, whr_2016, whr_2017,\n",
    "                  whr_2018, whr_2019], ignore_index=True)\n",
    "# happy.head()"
   ]
  },
  {
   "cell_type": "code",
   "execution_count": null,
   "id": "426e5f98",
   "metadata": {},
   "outputs": [],
   "source": [
    "# match column names\n",
    "\n",
    "\n",
    "def region(country):\n",
    "    \"\"\" Get region name based on 2015 dataset \"\"\"\n",
    "    try:  # if region name is in 2015 dataset, add name to region column\n",
    "        region_name = list(\n",
    "            whr_2015.loc[whr_2015['Country'] == country]['Region'])[0]\n",
    "        return region_name\n",
    "    except IndexError:  # if region name is not in 2015 dataset, add empty string to region column\n",
    "        return ''\n",
    "\n",
    "\n",
    "happy['Region'] = happy['Country'].apply(region)\n",
    "non_reg = happy[happy['Country'].isin(\n",
    "    whr_2015['Country'].unique()) == False]['Country'].unique().tolist()\n",
    "print(f'Regions in happy not in 2015 dataset: \\n{non_reg} ')"
   ]
  },
  {
   "cell_type": "code",
   "execution_count": null,
   "id": "6d25bd83",
   "metadata": {},
   "outputs": [],
   "source": [
    "# assign countries with missing regions from 2015 dataset with their regions\n",
    "def region_name(region, countries):\n",
    "    for c in countries:\n",
    "        happy.loc[happy['Country'] == c, 'Region'] = region\n",
    "\n",
    "\n",
    "region_name('Latin America and Caribbean', [\n",
    "            'Puerto Rico', 'Belize', 'Trinidad & Tobago'])\n",
    "region_name('Sub-Saharan Africa',\n",
    "            ['Somalia', 'Somaliland Region', 'Namibia', 'South Sudan', 'Gambia'])\n",
    "region_name('Eastern Asia',                [\n",
    "            'Taiwan Province of China', 'Hong Kong S.A.R., China'])\n",
    "region_name('Central and Eastern Europe',  [\n",
    "            'Northern Cyprus', 'North Macedonia'])\n",
    "\n",
    "# Replace NaN values with 0 to prevent future problems\n",
    "happy = happy.fillna(0)"
   ]
  },
  {
   "cell_type": "code",
   "execution_count": null,
   "id": "4f38412d",
   "metadata": {},
   "outputs": [],
   "source": [
    "# Standardized happy dataframe\n",
    "happy_su = (happy - happy.mean(numeric_only=True)) / \\\n",
    "    happy.std(numeric_only=True)\n",
    "happy_su = happy_su.drop(['Country', 'Region', 'Year'], axis=1) \\\n",
    "                   .merge(happy[['Country', 'Region', 'Year']],\n",
    "                          left_index=True, right_index=True)[happy.columns]"
   ]
  },
  {
   "cell_type": "markdown",
   "id": "5d69fb36",
   "metadata": {},
   "source": [
    "### Exploratory Data Analysis\n",
    "\n",
    "Europe, North America, Australia, and New Zealand seem to have the highest Happiness Scores, likely from their economic development and social structure. These countries or regions tend to be well-developed with sufficient housing, education, healthcare, and other basic needs. Residents usually have well-paying jobs to live comfortably."
   ]
  },
  {
   "cell_type": "code",
   "execution_count": null,
   "id": "af2bd70b",
   "metadata": {},
   "outputs": [],
   "source": [
    "fig, axs = plt.subplots(ncols=2, figsize=(15, 7))\n",
    "\n",
    "sns.barplot(x='Happiness Score', y='Region',\n",
    "            data=happy.groupby('Region', as_index=False).mean(numeric_only=True\n",
    "                                                              ).sort_values('Happiness Score', ascending=False),\n",
    "            orient='h', color='c', alpha=0.6, ax=axs[0])\n",
    "axs[0].set_title('Top 10 Regions with the Highest Happiness Score')\n",
    "axs[0].set_xlim(4, 8)\n",
    "\n",
    "sns.barplot(x='Happiness Score', y='Country',\n",
    "            data=happy[:10].sort_values('Happiness Score', ascending=False),\n",
    "            orient='h', color='c', alpha=0.6, ax=axs[1])\n",
    "axs[1].set_title('Top 10 Countries with the Highest Happiness Score')\n",
    "axs[1].set_xlim(7.2, 7.6)\n",
    "plt.show()"
   ]
  },
  {
   "cell_type": "markdown",
   "id": "404ace2e",
   "metadata": {},
   "source": [
    "#### Correlation Matrix\n",
    "Each determining factor of a region's happiness rank/score is weighted differently. For instance, trust in government seems to be the most correlated for Western Europe and North America, while the economy is the most correlated for the other two regions."
   ]
  },
  {
   "cell_type": "code",
   "execution_count": null,
   "id": "0bfefa42",
   "metadata": {},
   "outputs": [],
   "source": [
    "# Overall Correlation\n",
    "sns.heatmap(happy.corr(numeric_only=True), cmap='Blues_r', annot=True)\n",
    "plt.show()"
   ]
  },
  {
   "cell_type": "code",
   "execution_count": null,
   "id": "39c5bba2",
   "metadata": {},
   "outputs": [],
   "source": [
    "# Correlation by Region\n",
    "fig, axs = plt.subplots(ncols=2, nrows=2, figsize=(\n",
    "    30, 30), constrained_layout=True)\n",
    "sns.heatmap(happy[happy['Region'] == 'Western Europe'].corr(numeric_only=True),\n",
    "            cmap='Blues_r', annot=True, ax=axs[0, 0])\n",
    "axs[0, 0].set_title('Western Europe')\n",
    "sns.heatmap(happy[happy['Region'] == 'Eastern Asia'].corr(numeric_only=True),\n",
    "            cmap='Reds_r', annot=True, ax=axs[0, 1])\n",
    "axs[0, 1].set_title('Eastern Asia')\n",
    "sns.heatmap(happy[happy['Region'] == 'North America'].corr(numeric_only=True),\n",
    "            cmap='Greens_r', annot=True, ax=axs[1, 0])\n",
    "axs[1, 0].set_title('North America')\n",
    "sns.heatmap(happy[happy['Region'] == 'Middle East and Northern Africa'].corr(numeric_only=True\n",
    "                                                                             ), cmap='Purples_r', annot=True, ax=axs[1, 1])\n",
    "axs[1, 1].set_title('Middle East and Northern Africa')\n",
    "fig.suptitle('Correlation Matrix by Country')\n",
    "plt.show()"
   ]
  },
  {
   "cell_type": "code",
   "execution_count": null,
   "id": "b04c6729",
   "metadata": {},
   "outputs": [],
   "source": [
    "# KDE Plot: distrubition of each factor\n",
    "fig, axs = plt.subplots(ncols=2, figsize=(15, 8))\n",
    "# Stronger Correlation\n",
    "sns.kdeplot(data=happy_su.drop(columns=[\n",
    "            'Happiness Rank', 'Trust (Government Corruption)', 'Dystopia Residual']), ax=axs[0])\n",
    "# Weaker Correlation\n",
    "sns.kdeplot(data=happy_su[[\n",
    "            'Happiness Score', 'Trust (Government Corruption)', 'Dystopia Residual']], ax=axs[1])\n",
    "fig.suptitle('Comparision between Happiness Score and its Features')\n",
    "fig.supxlabel('Standardized Score')\n",
    "plt.show()"
   ]
  },
  {
   "cell_type": "code",
   "execution_count": null,
   "id": "991feef9",
   "metadata": {},
   "outputs": [],
   "source": [
    "fig = px.scatter(happy[happy['Happiness Rank'] <= 20], x='Happiness Rank', y='Happiness Score',\n",
    "                 color='Year', title='Top 20 Happiness Ranks from 2015 to 2019',\n",
    "                 hover_data={'Country': True,\n",
    "                             'Happiness Rank': False})\n",
    "iplot(fig)"
   ]
  },
  {
   "cell_type": "code",
   "execution_count": null,
   "id": "ef96722b",
   "metadata": {},
   "outputs": [],
   "source": [
    "feature = 'Family'\n",
    "\n",
    "fig = px.choropleth(happy, locations='Country', locationmode='country names',\n",
    "                    color=feature, color_continuous_scale='Ice', animation_frame='Year',\n",
    "                    hover_name='Country', hover_data=['Happiness Rank', 'Happiness Score'],\n",
    "                    title=f'{feature} Changes')\n",
    "\n",
    "iplot(fig)"
   ]
  },
  {
   "cell_type": "markdown",
   "id": "633ca764",
   "metadata": {},
   "source": [
    "#### Plot Multiple Features\n",
    "Countries with a better economy and higher health or life expectancy seem to have higher happiness scores."
   ]
  },
  {
   "cell_type": "code",
   "execution_count": null,
   "id": "b30e1949",
   "metadata": {},
   "outputs": [],
   "source": [
    "x_col = 'Economy (GDP per Capita)'\n",
    "y_col = 'Health (Life Expectancy)'\n",
    "fig = px.scatter(happy, x=x_col, y=y_col,\n",
    "                 animation_frame='Year', animation_group='Country',\n",
    "                 size=(happy['Happiness Score'])**3, color='Region', size_max=15,\n",
    "                 hover_name='Country', hover_data=['Happiness Rank', 'Happiness Score'],\n",
    "                 title=f'Happiness Change ({x_col} and {y_col})')\n",
    "iplot(fig)"
   ]
  },
  {
   "cell_type": "markdown",
   "id": "724f350e",
   "metadata": {},
   "source": [
    "#### Identify Outliers\n",
    "Countries with low happiness scores tend to be outliers."
   ]
  },
  {
   "cell_type": "code",
   "execution_count": null,
   "id": "75af794c",
   "metadata": {},
   "outputs": [],
   "source": [
    "z_score = np.abs(stats.zscore(happy['Happiness Score'])) > 2\n",
    "happy_out = happy[z_score]\n",
    "happy_out.head(2)"
   ]
  },
  {
   "cell_type": "markdown",
   "id": "9614deb6",
   "metadata": {},
   "source": [
    "[Mahalanobis Distance](https://towardsdatascience.com/multivariate-outlier-detection-in-python-e946cfc843b3): find outliers for multiple variables"
   ]
  },
  {
   "cell_type": "code",
   "execution_count": null,
   "id": "967ad81d",
   "metadata": {},
   "outputs": [],
   "source": [
    "feat1 = 'Happiness Score'\n",
    "feat2 = 'Freedom'\n",
    "\n",
    "isolated_happy = happy.loc[happy['Year'] == '2019'][[feat1, feat2]]\n",
    "\n",
    "centerpoint = isolated_happy.mean()\n",
    "print('Centerpoints:')\n",
    "print(centerpoint)\n",
    "\n",
    "\n",
    "covariance = np.cov(isolated_happy, rowvar=False)\n",
    "covaraince_inv = np.linalg.matrix_power(covariance, -1)\n",
    "\n",
    "lambda_, v = np.linalg.eig(covariance)\n",
    "lambda_ = np.sqrt(lambda_)\n",
    "\n",
    "feature_tuples = zip(isolated_happy[feat1], isolated_happy[feat2])\n",
    "distances = []\n",
    "for feature_pair in feature_tuples:\n",
    "    distances.append(distance.mahalanobis(\n",
    "        feature_pair, centerpoint, covaraince_inv))\n",
    "distances = np.array(distances)\n",
    "\n",
    "# Outliers from Chi-Sqaure\n",
    "cutoff = chi2.ppf(0.95, isolated_happy.shape[1]) / 2.5\n",
    "outlierIndexes = np.where(distances > cutoff)\n",
    "# happy.loc[happy['Year'] == '2019'].iloc[outlierIndexes].head(2)"
   ]
  },
  {
   "cell_type": "code",
   "execution_count": null,
   "id": "1b36677f",
   "metadata": {},
   "outputs": [],
   "source": [
    "data = go.Scatter(x=isolated_happy[feat1],\n",
    "                  y=isolated_happy[feat2],\n",
    "                  mode='markers',\n",
    "                  name='2019',\n",
    "                  marker=dict(color='blue'),\n",
    "                  text=happy.loc[happy['Year'] == '2019'].Country)\n",
    "layout = dict(title='Outliers of Happiness Score and Freedom (2019)',\n",
    "              xaxis=dict(title=feat1, ticklen=5, zeroline=False),\n",
    "              yaxis=dict(title=feat2, ticklen=5, zeroline=False),\n",
    "              hovermode='x'\n",
    "              )\n",
    "fig = go.Figure(data=data, layout=layout)\n",
    "\n",
    "fig.add_shape(type='circle',\n",
    "              xref='x', yref='y',\n",
    "              x0=centerpoint[0]-lambda_[0]*np.sqrt(cutoff)*np.sqrt(2.5), y0=centerpoint[1]-lambda_[1]*np.sqrt(cutoff)*np.sqrt(2.5),\n",
    "              x1=centerpoint[0]+lambda_[0]*np.sqrt(cutoff)*np.sqrt(2.5), y1=centerpoint[1]+lambda_[1]*np.sqrt(cutoff)*np.sqrt(2.5),\n",
    "              opacity=0.2,\n",
    "              fillcolor='blue',\n",
    "              line_color='blue',\n",
    "              )\n",
    "iplot(fig)"
   ]
  },
  {
   "cell_type": "markdown",
   "id": "de1fc482",
   "metadata": {},
   "source": [
    "### Distribution of Happiness Score for Each Region"
   ]
  },
  {
   "cell_type": "code",
   "execution_count": null,
   "id": "e1fabca8",
   "metadata": {},
   "outputs": [],
   "source": [
    "plt.rcParams['figure.figsize'] = (15, 10)\n",
    "sns.violinplot(data=happy, y='Happiness Score',\n",
    "               x='Region', scale='width', palette='pastel')\n",
    "plt.xticks(rotation=25)\n",
    "plt.show()"
   ]
  },
  {
   "cell_type": "code",
   "execution_count": null,
   "id": "649d8cc9",
   "metadata": {},
   "outputs": [],
   "source": [
    "# save notebook\n",
    "display(Javascript('IPython.notebook.save_checkpoint();'))\n",
    "# save notebook as html to eugpoon.github.io/projects\n",
    "!jupyter nbconvert  happy.ipynb --to html\n",
    "%mv \"happy.html\" \"../eugpoon.github.io/projects/\"\n",
    "# restyle imports, clear output, replace file\n",
    "!cleanipynb happy.ipynb\n",
    "# restart kernel\n",
    "display(HTML(\"<script>Jupyter.notebook.kernel.restart()</script>\"))"
   ]
  }
 ],
 "metadata": {
  "kernelspec": {
   "display_name": "Python 3 (ipykernel)",
   "language": "python",
   "name": "python3"
  },
  "language_info": {
   "codemirror_mode": {
    "name": "ipython",
    "version": 3
   },
   "file_extension": ".py",
   "mimetype": "text/x-python",
   "name": "python",
   "nbconvert_exporter": "python",
   "pygments_lexer": "ipython3",
   "version": "3.11.4"
  }
 },
 "nbformat": 4,
 "nbformat_minor": 5
}
